{
 "cells": [
  {
   "cell_type": "code",
   "execution_count": 1,
   "metadata": {},
   "outputs": [],
   "source": [
    "import tensorflow as tf\n",
    "import numpy as np\n",
    "import matplotlib.pyplot as plt\n",
    "from sklearn.preprocessing import LabelBinarizer\n",
    "import inspect"
   ]
  },
  {
   "cell_type": "markdown",
   "metadata": {},
   "source": [
    "## CIFAR 10 dataset"
   ]
  },
  {
   "cell_type": "code",
   "execution_count": 2,
   "metadata": {},
   "outputs": [],
   "source": [
    "def unpickle(file):\n",
    "    import pickle\n",
    "    with open(file, 'rb') as fo:\n",
    "        data = pickle.load(fo, encoding = \"bytes\")\n",
    "    return data"
   ]
  },
  {
   "cell_type": "code",
   "execution_count": 3,
   "metadata": {
    "scrolled": false
   },
   "outputs": [
    {
     "data": {
      "text/plain": [
       "[b'airplane',\n",
       " b'automobile',\n",
       " b'bird',\n",
       " b'cat',\n",
       " b'deer',\n",
       " b'dog',\n",
       " b'frog',\n",
       " b'horse',\n",
       " b'ship',\n",
       " b'truck']"
      ]
     },
     "execution_count": 3,
     "metadata": {},
     "output_type": "execute_result"
    }
   ],
   "source": [
    "cifar_batch = unpickle(\"cifar10/cifar-10-batches-py/data_batch_1\")\n",
    "label_names = unpickle(\"cifar10/cifar-10-batches-py/batches.meta\")[b'label_names']\n",
    "label_names"
   ]
  },
  {
   "cell_type": "code",
   "execution_count": 4,
   "metadata": {},
   "outputs": [],
   "source": [
    "def roll_cifar_single(flat_image):\n",
    "    \"\"\"\n",
    "    flat_image -- of shape (3072, ), first red channel pixels, then green, then blue.\n",
    "    \n",
    "    Returns:\n",
    "    image -- of shape (32, 32, 3)\n",
    "    \"\"\"\n",
    "    image = np.zeros((32, 32, 3))\n",
    "    image[:, :, 0] = flat_image[0:1024].reshape((32, 32))\n",
    "    image[:, :, 1] = flat_image[1024:2048].reshape((32, 32))\n",
    "    image[:, :, 2] = flat_image[2048:3072].reshape((32, 32))\n",
    "    return image.astype(np.uint8) # Transform to integer type. Important for visualization."
   ]
  },
  {
   "cell_type": "code",
   "execution_count": 3,
   "metadata": {},
   "outputs": [],
   "source": [
    "def roll_cifar(flat_images):\n",
    "    \"\"\"\n",
    "    Vectorized impl that rolls array of images.\n",
    "    \n",
    "    flat_images -- of shape (m, 3072, ), m images, first red channel pixels, then green, then blue.\n",
    "    \n",
    "    Returns:\n",
    "    images -- of shape (m, 32, 32, 3)\n",
    "    \"\"\"\n",
    "    (m, _) = flat_images.shape\n",
    "    images = np.zeros((m, 32, 32, 3))\n",
    "    images[:, :, :, 0] = flat_images[:, 0:1024].reshape((-1, 32, 32))\n",
    "    images[:, :, :, 1] = flat_images[:, 1024:2048].reshape((-1, 32, 32))\n",
    "    images[:, :, :, 2] = flat_images[:, 2048:3072].reshape((-1, 32, 32))\n",
    "    return images.astype(np.uint8) # Transform to integer type. Important for visualization."
   ]
  },
  {
   "cell_type": "code",
   "execution_count": 6,
   "metadata": {},
   "outputs": [
    {
     "name": "stdout",
     "output_type": "stream",
     "text": [
      "b'deer' b'airplane'\n"
     ]
    }
   ],
   "source": [
    "idx = 34\n",
    "images = roll_cifar(cifar_batch[b'data'][idx:(idx + 2)])\n",
    "label = cifar_batch[b'labels'][idx:(idx + 2)]\n",
    "print(label_names[label[0]], label_names[label[1]])"
   ]
  },
  {
   "cell_type": "code",
   "execution_count": 7,
   "metadata": {},
   "outputs": [
    {
     "data": {
      "image/png": "[encoded data removed]",
      "text/plain": [
       "<matplotlib.figure.Figure at 0x1a189c9080>"
      ]
     },
     "metadata": {},
     "output_type": "display_data"
    },
    {
     "data": {
      "image/png": "[encoded data removed]",
      "text/plain": [
       "<matplotlib.figure.Figure at 0x1a189c9630>"
      ]
     },
     "metadata": {},
     "output_type": "display_data"
    }
   ],
   "source": [
    "plt.figure(figsize=(2, 2))\n",
    "plt.imshow(images[0])\n",
    "plt.figure(figsize=(2, 2))\n",
    "plt.imshow(images[1])\n",
    "plt.show()"
   ]
  },
  {
   "cell_type": "markdown",
   "metadata": {},
   "source": [
    "## Train and test data"
   ]
  },
  {
   "cell_type": "code",
   "execution_count": 4,
   "metadata": {},
   "outputs": [
    {
     "name": "stdout",
     "output_type": "stream",
     "text": [
      "X_train:  (10000, 32, 32, 3)\n",
      "X_test:  (10000, 32, 32, 3)\n",
      "Y_train:  (10000, 10)\n",
      "Y_test:  (10000, 10)\n"
     ]
    }
   ],
   "source": [
    "train_batch1 = unpickle(\"cifar10/cifar-10-batches-py/data_batch_1\")\n",
    "test_batch = unpickle(\"cifar10/cifar-10-batches-py/test_batch\")\n",
    "X_train = roll_cifar(train_batch1[b'data']) / 255.\n",
    "X_test = roll_cifar(test_batch[b'data']) / 255.\n",
    "binarizer = LabelBinarizer().fit(train_batch1[b'labels'])\n",
    "Y_train = binarizer.transform(train_batch1[b'labels'])\n",
    "Y_test = binarizer.transform(test_batch[b'labels'])\n",
    "\n",
    "print(\"X_train: \", X_train.shape)\n",
    "print(\"X_test: \", X_test.shape)\n",
    "print(\"Y_train: \", Y_train.shape)\n",
    "print(\"Y_test: \", Y_test.shape)"
   ]
  },
  {
   "cell_type": "markdown",
   "metadata": {},
   "source": [
    "## Input data placeholder"
   ]
  },
  {
   "cell_type": "code",
   "execution_count": 5,
   "metadata": {},
   "outputs": [],
   "source": [
    "def create_placeholders(n_H0, n_W0, n_C0, n_y):\n",
    "    xs = tf.placeholder(tf.float32, [None, n_H0, n_W0, n_C0])\n",
    "    ys = tf.placeholder(tf.float32, [None, n_y])\n",
    "    return xs, ys"
   ]
  },
  {
   "cell_type": "markdown",
   "metadata": {},
   "source": [
    "## Initialize parameters"
   ]
  },
  {
   "cell_type": "markdown",
   "metadata": {},
   "source": [
    "Initialize weights (filters) using `tf.contrib.layers.xavier_initializer`.\n",
    "We only need to initialize for the `conv2d` functions. TensorFlow initializers the fully connected layers automatically.\n",
    "\n",
    "More about `xavier initializer`: To help reduce the vanishing/exploding gradient problem. Recall that we compute this:\n",
    "$$z = W_1X_1 + \\cdots + W_nX_n$$\n",
    "before applying activation $a = g(z)$. In order to NOT have a too big (too small) $z$ (to avoid the long tail of activation function), we would prefer \"smaller $W_i$ for larger $n$\". Assuming input $X_i$s have roughly mean 0 and unit variance, then one approach to initialize $W_i$s is to make\n",
    "$$Var(W_i) = \\frac{1}{n}$$\n",
    "So we can initalize like\n",
    "\n",
    "`W = np.random.randn(shape) * np.sqrt(1./n)`\n",
    "\n",
    "(Note `randn` draws sample from standard normal distribution.)"
   ]
  },
  {
   "cell_type": "code",
   "execution_count": 6,
   "metadata": {},
   "outputs": [],
   "source": [
    "def initialize_parameters():\n",
    "    \"\"\"\n",
    "    We use two conv layers. Initialize two filters:\n",
    "    W1: [4, 4, 3, 8]\n",
    "    W2: [2, 2, 8, 16]\n",
    "    \n",
    "    Returns:\n",
    "    parameters -- a dictionary containing W1, W2\n",
    "    \"\"\"\n",
    "    tf.set_random_seed(1)\n",
    "    W1 = tf.get_variable(\"W1\", [4, 4, 3, 8], \\\n",
    "                         initializer = tf.contrib.layers.xavier_initializer(seed = 0))\n",
    "    W2 = tf.get_variable(\"W2\", [2, 2, 8, 16], \\\n",
    "                         initializer = tf.contrib.layers.xavier_initializer(seed = 0))\n",
    "    \n",
    "    parameters = {\"W1\": W1, \"W2\": W2}\n",
    "    return parameters"
   ]
  },
  {
   "cell_type": "code",
   "execution_count": 11,
   "metadata": {},
   "outputs": [
    {
     "name": "stdout",
     "output_type": "stream",
     "text": [
      "W1 =  [ 0.00131723  0.14176141 -0.04434952  0.09197326  0.14984085 -0.03514394\n",
      " -0.06847463  0.05245192]\n",
      "W2 =  [-0.08566415  0.17750949  0.11974221  0.16773748 -0.0830943  -0.08058\n",
      " -0.00577033 -0.14643836  0.24162132 -0.05857408 -0.19055021  0.1345228\n",
      " -0.22779644 -0.1601823  -0.16117483 -0.10286498]\n"
     ]
    }
   ],
   "source": [
    "tf.reset_default_graph()\n",
    "with tf.Session() as session:\n",
    "    parameters = initialize_parameters()\n",
    "    init = tf.global_variables_initializer()\n",
    "    session.run(init)\n",
    "    print(\"W1 = \", parameters[\"W1\"].eval()[1, 1, 1])\n",
    "    print(\"W2 = \", parameters[\"W2\"].eval()[1, 1 ,1])"
   ]
  },
  {
   "cell_type": "markdown",
   "metadata": {},
   "source": [
    "## Forward propagation"
   ]
  },
  {
   "cell_type": "markdown",
   "metadata": {},
   "source": [
    "In TensorFlow, there are built-in functions that carry out the convolution steps for you.\n",
    "\n",
    "- **tf.nn.conv2d(X,W1, strides = [1,s,s,1], padding = 'SAME'):** given an input $X$ and a group of filters $W1$, this function convolves $W1$'s filters on X. The third input ([1,f,f,1]) represents the strides for each dimension of the input (m, n_H_prev, n_W_prev, n_C_prev). You can read the full documentation [here](https://www.tensorflow.org/api_docs/python/tf/nn/conv2d)\n",
    "\n",
    "- **tf.nn.max_pool(A, ksize = [1,f,f,1], strides = [1,s,s,1], padding = 'SAME'):** given an input A, this function uses a window of size (f, f) and strides of size (s, s) to carry out max pooling over each window. You can read the full documentation [here](https://www.tensorflow.org/api_docs/python/tf/nn/max_pool)\n",
    "\n",
    "- **tf.nn.relu(Z1):** computes the elementwise ReLU of Z1 (which can be any shape). You can read the full documentation [here.](https://www.tensorflow.org/api_docs/python/tf/nn/relu)\n",
    "\n",
    "- **tf.contrib.layers.flatten(P)**: given an input P, this function flattens each example into a 1D vector it while maintaining the batch-size. It returns a flattened tensor with shape [batch_size, k]. You can read the full documentation [here.](https://www.tensorflow.org/api_docs/python/tf/contrib/layers/flatten)\n",
    "\n",
    "- **tf.contrib.layers.fully_connected(F, num_outputs):** given a the flattened input F, it returns the output computed using a fully connected layer. You can read the full documentation [here.](https://www.tensorflow.org/api_docs/python/tf/contrib/layers/fully_connected)\n",
    "**Question: But how do you extract the weights?** This link helps [here](https://stackoverflow.com/questions/43158606/how-to-get-weights-from-tensorflow-fully-connected)\n",
    "\n",
    "In the last function above (`tf.contrib.layers.fully_connected`), the fully connected layer automatically initializes weights in the graph and keeps on training them as you train the model. Hence, you did not need to initialize those weights when initializing the parameters. \n",
    "\n",
    "**NOTE**: Many of the above functions have multiple equivalent versions in TensorFlow. For example, `tf.nn.conv2d` and `tf.layers.conv2d`; `tf.contrib.layers.fully_connected` and `tf.layers.dense`, etc. BUT, some of their arguments might be different.\n",
    "\n",
    "**Exercise**: \n",
    "\n",
    "Implement the `forward_propagation` function below to build the following model: `CONV2D -> RELU -> MAXPOOL -> CONV2D -> RELU -> MAXPOOL -> FLATTEN -> FULLYCONNECTED`. You should use the functions above. \n",
    "\n",
    "In detail, we will use the following parameters for all the steps:\n",
    "     - Conv2D: stride 1, padding is \"SAME\"\n",
    "     - ReLU\n",
    "     - Max pool: Use an 8 by 8 filter size and an 8 by 8 stride, padding is \"SAME\"\n",
    "     - Conv2D: stride 1, padding is \"SAME\"\n",
    "     - ReLU\n",
    "     - Max pool: Use a 4 by 4 filter size and a 4 by 4 stride, padding is \"SAME\"\n",
    "     - Flatten the previous output.\n",
    "     - FULLYCONNECTED (FC) layer: Apply a fully connected layer without an non-linear activation function. Do not call the softmax here. This will result in 6 neurons in the output layer, which then get passed later to a softmax. In TensorFlow, the softmax and cost function are lumped together into a single function, which you'll call in a different function when computing the cost. \n",
    "     \n",
    "NOTE: **The padding scheme for conv2d and max_pool is not as simple as described in Andrew's video. We should check the following TensorFlow's documentation** [here](https://www.tensorflow.org/api_guides/python/nn#convolution)"
   ]
  },
  {
   "cell_type": "code",
   "execution_count": 7,
   "metadata": {},
   "outputs": [],
   "source": [
    "def forward_propagation(X, Y, parameters):\n",
    "    \"\"\"\n",
    "    Implements the forward propagation for the model:\n",
    "    conv2d -> relu -> maxpool -> conv2d -> relu -> maxpool -> flatten -> fullyconnected\n",
    "    \n",
    "    X -- input dataset placeholder, of shape (m, n_H, n_W, n_C)\n",
    "    Y -- of shape (m, #classes), used for determining the #classes\n",
    "    parameters -- two filters \"W1\" and \"W2\"\n",
    "    \n",
    "    Returns:\n",
    "    Z3 -- output of the last LINEAR unit\n",
    "    \"\"\"\n",
    "    (W1, W2) = (parameters[\"W1\"], parameters[\"W2\"])\n",
    "    num_of_classes = Y.shape[1].value\n",
    "    \n",
    "    Z1 = tf.nn.conv2d(X, W1, strides = [1, 1, 1, 1], padding = 'SAME')\n",
    "    A1 = tf.nn.relu(Z1)\n",
    "    P1 = tf.nn.max_pool(A1, ksize = [1, 8, 8, 1], strides = [1, 8, 8, 1], padding = 'SAME')\n",
    "    Z2 = tf.nn.conv2d(P1, W2, strides = [1, 1, 1, 1], padding = 'SAME')\n",
    "    A2 = tf.nn.relu(Z2)\n",
    "    P2 = tf.nn.max_pool(A2, ksize = [1, 4, 4, 1], strides = [1, 4, 4, 1], padding = 'SAME')\n",
    "    P2 = tf.contrib.layers.flatten(P2)\n",
    "    Z3 = tf.contrib.layers.fully_connected(P2, num_of_classes, activation_fn=None)\n",
    "    \n",
    "    return Z3\n",
    "    "
   ]
  },
  {
   "cell_type": "code",
   "execution_count": 13,
   "metadata": {},
   "outputs": [
    {
     "name": "stdout",
     "output_type": "stream",
     "text": [
      "Z3 =  [[-0.44670227 -1.57208765 -1.53049231 -2.31013036 -1.29104376  0.46852064]\n",
      " [-0.17601591 -1.57972014 -1.4737016  -2.61672091 -1.00810647  0.5747785 ]]\n"
     ]
    }
   ],
   "source": [
    "tf.reset_default_graph()\n",
    "with tf.Session() as session:\n",
    "    np.random.seed(1)\n",
    "    X, Y = create_placeholders(64, 64, 3, 6)\n",
    "    parameters = initialize_parameters()\n",
    "    Z3 = forward_propagation(X, Y, parameters)\n",
    "    init = tf.global_variables_initializer()\n",
    "    session.run(init)\n",
    "    a = session.run(Z3, feed_dict = {X: np.random.randn(2, 64, 64, 3), Y: np.random.randn(2, 6)})\n",
    "    print(\"Z3 = \", a)"
   ]
  },
  {
   "cell_type": "markdown",
   "metadata": {},
   "source": [
    "## Compute cost"
   ]
  },
  {
   "cell_type": "markdown",
   "metadata": {},
   "source": [
    "Implement the compute cost function below. You might find these two functions helpful: \n",
    "\n",
    "- **tf.nn.softmax_cross_entropy_with_logits(logits = Z3, labels = Y):** computes the softmax entropy loss. This function both computes the softmax activation function as well as the resulting loss. You can check the full documentation  [here.](https://www.tensorflow.org/api_docs/python/tf/nn/softmax_cross_entropy_with_logits)\n",
    "- **tf.reduce_mean:** computes the mean of elements across dimensions of a tensor. Use this to sum the losses over all the examples to get the overall cost. You can check the full documentation [here.](https://www.tensorflow.org/api_docs/python/tf/reduce_mean)\n",
    "\n",
    "** Exercise**: Compute the cost below using the function above."
   ]
  },
  {
   "cell_type": "code",
   "execution_count": 8,
   "metadata": {},
   "outputs": [],
   "source": [
    "def compute_cost(Z3, Y):\n",
    "    cost = tf.reduce_mean(\\\n",
    "        tf.nn.softmax_cross_entropy_with_logits(logits = Z3, labels = Y))\n",
    "    return cost"
   ]
  },
  {
   "cell_type": "code",
   "execution_count": 15,
   "metadata": {},
   "outputs": [
    {
     "name": "stdout",
     "output_type": "stream",
     "text": [
      "cost =  2.91034\n"
     ]
    }
   ],
   "source": [
    "tf.reset_default_graph()\n",
    "with tf.Session() as session:\n",
    "    np.random.seed(1)\n",
    "    X, Y = create_placeholders(64, 64, 3, 6)\n",
    "    parameters = initialize_parameters()\n",
    "    Z3 = forward_propagation(X, Y, parameters)\n",
    "    cost = compute_cost(Z3, Y)\n",
    "    init = tf.global_variables_initializer()\n",
    "    session.run(init)\n",
    "    c = session.run(cost, feed_dict = {X: np.random.randn(4, 64, 64, 3), Y: np.random.randn(4, 6)})\n",
    "    print(\"cost = \", c)"
   ]
  },
  {
   "cell_type": "markdown",
   "metadata": {},
   "source": [
    "## Model"
   ]
  },
  {
   "cell_type": "markdown",
   "metadata": {},
   "source": [
    "### Mini-batch"
   ]
  },
  {
   "cell_type": "code",
   "execution_count": 9,
   "metadata": {},
   "outputs": [],
   "source": [
    "def random_mini_batches(X, Y, mini_batch_size = 64, seed = 0):\n",
    "    \"\"\"\n",
    "    Creates a list of random minibatches from (X, Y)\n",
    "    \n",
    "    Arguments:\n",
    "    X -- input data, of shape (m, n_H, n_W, n_C)\n",
    "    Y -- true \"label\" vector, of shape (m, #classes)\n",
    "    mini_batch_size -- size of the mini-batches, integer\n",
    "    \n",
    "    Returns:\n",
    "    mini_batches -- list of synchronous (mini_batch_X, mini_batch_Y)\n",
    "    \"\"\"\n",
    "    \n",
    "    np.random.seed(seed)            # To make your \"random\" minibatches the same as ours\n",
    "    m = X.shape[0]                  # number of training examples\n",
    "    mini_batches = []\n",
    "        \n",
    "    # Step 1: Shuffle (X, Y)\n",
    "    permutation = list(np.random.permutation(m))\n",
    "    shuffled_X = X[permutation, :]\n",
    "    shuffled_Y = Y[permutation, :]\n",
    "\n",
    "    # Step 2: Partition (shuffled_X, shuffled_Y). Minus the end case.\n",
    "    num_complete_minibatches = np.floor(m/mini_batch_size).astype(int) # number of mini batches of size mini_batch_size in your partitionning\n",
    "    for k in range(0, num_complete_minibatches):\n",
    "        ### START CODE HERE ### (approx. 2 lines)\n",
    "        mini_batch_X = shuffled_X[(k * mini_batch_size) : ((k + 1) * mini_batch_size), :]\n",
    "        mini_batch_Y = shuffled_Y[(k * mini_batch_size) : ((k + 1) * mini_batch_size), :]\n",
    "        ### END CODE HERE ###\n",
    "        mini_batch = (mini_batch_X, mini_batch_Y)\n",
    "        mini_batches.append(mini_batch)\n",
    "    \n",
    "    # Handling the end case (last mini-batch < mini_batch_size)\n",
    "    if m % mini_batch_size != 0:\n",
    "        ### START CODE HERE ### (approx. 2 lines)\n",
    "        mini_batch_X = shuffled_X[(num_complete_minibatches * mini_batch_size) : m, :]\n",
    "        mini_batch_Y = shuffled_Y[(num_complete_minibatches * mini_batch_size) : m, :]\n",
    "        ### END CODE HERE ###\n",
    "        mini_batch = (mini_batch_X, mini_batch_Y)\n",
    "        mini_batches.append(mini_batch)\n",
    "    \n",
    "    return mini_batches"
   ]
  },
  {
   "cell_type": "markdown",
   "metadata": {},
   "source": [
    "### Model\n",
    "The model below should:\n",
    "\n",
    "- create placeholders\n",
    "- initialize parameters\n",
    "- forward propagate\n",
    "- compute the cost\n",
    "- create an optimizer"
   ]
  },
  {
   "cell_type": "code",
   "execution_count": 10,
   "metadata": {},
   "outputs": [],
   "source": [
    "def compute_accuracy(outputs, Y):\n",
    "    return np.mean(np.argmax(outputs, 1) == np.argmax(Y, 1))\n",
    "\n",
    "def model(X_train, Y_train, X_test, Y_test, learning_rate = 0.009, \n",
    "          num_epochs = 100, minibatch_size = 64):\n",
    "    \"\"\"\n",
    "    X_train -- training set, of shape (None, 64, 64, 3)\n",
    "    Y_train -- test set, of shape (None, n_y = 6)\n",
    "    X_test -- training set, of shape (None, 64, 64, 3)\n",
    "    Y_test -- test set, of shape (None, n_y = 6)\n",
    "    \n",
    "    Returns:\n",
    "    train_accuracy -- real number, accuracy on the train set (X_train)\n",
    "    test_accuracy -- real number, testing accuracy on the test set (X_test)\n",
    "    parameters -- parameters learnt by the model. They can then be used to predict.\n",
    "    \"\"\"\n",
    "    tf.reset_default_graph()\n",
    "    tf.set_random_seed(1)  # tensorflow seed\n",
    "    numpy_seed = 3  # numpy seed\n",
    "    \n",
    "    (m, n_H0, n_W0, n_C0) = X_train.shape\n",
    "    n_y = Y_train.shape[1]\n",
    "    costs = []\n",
    "    \n",
    "    X, Y = create_placeholders(n_H0, n_W0, n_C0, n_y)\n",
    "    parameters = initialize_parameters()\n",
    "    Z3 = forward_propagation(X, Y, parameters)\n",
    "    cost = compute_cost(Z3, Y)\n",
    "    \n",
    "    optimizer = tf.train.AdamOptimizer(learning_rate = learning_rate).minimize(cost)\n",
    "    init = tf.global_variables_initializer()\n",
    "    with tf.Session() as session:\n",
    "        session.run(init)\n",
    "        for i in range(num_epochs):\n",
    "            avg_cost = 0.\n",
    "            num_minibatches = m / minibatch_size\n",
    "            numpy_seed = numpy_seed + 1\n",
    "            minibatches = random_mini_batches(X_train, Y_train, minibatch_size, numpy_seed)\n",
    "            for minibatch in minibatches:\n",
    "                (minibatch_X, minibatch_Y) = minibatch\n",
    "                session.run(optimizer, feed_dict = {X: minibatch_X, Y: minibatch_Y})\n",
    "                mini_batch_cost = session.run(cost, feed_dict = {X: minibatch_X, Y: minibatch_Y})\n",
    "                \n",
    "                avg_cost = mini_batch_cost / num_minibatches\n",
    "                \n",
    "            costs.append(avg_cost)\n",
    "        \n",
    "        fig = plt.figure()\n",
    "        ax = fig.add_subplot(1, 1, 1)\n",
    "        ax.plot(costs)\n",
    "        ax.set_xlabel(\"iterations\")\n",
    "        ax.set_ylabel(\"cost\")\n",
    "        plt.show()\n",
    "        \n",
    "        train_accuracy = compute_accuracy(Z3.eval({X: X_train, Y: Y_train}), Y_train)\n",
    "        test_accuracy = compute_accuracy(Z3.eval({X: X_test, Y:Y_test}), Y_test)\n",
    "        \n",
    "        # BUT: parameters only contain those in conv layers, what about fully connected layer?\n",
    "        return train_accuracy, test_accuracy, parameters\n",
    "        "
   ]
  },
  {
   "cell_type": "code",
   "execution_count": 14,
   "metadata": {},
   "outputs": [
    {
     "data": {
      "image/png": "[encoded data removed]",
      "text/plain": [
       "<matplotlib.figure.Figure at 0x1a17216cf8>"
      ]
     },
     "metadata": {},
     "output_type": "display_data"
    }
   ],
   "source": [
    "train_accuracy, test_accuracy, parameters = \\\n",
    "    model(X_train, Y_train, X_test, Y_test, num_epochs = 50, minibatch_size = 500)"
   ]
  },
  {
   "cell_type": "code",
   "execution_count": 15,
   "metadata": {},
   "outputs": [
    {
     "name": "stdout",
     "output_type": "stream",
     "text": [
      "train accuracy:  0.4862\n",
      "test accuracy:  0.4442\n"
     ]
    }
   ],
   "source": [
    "print(\"train accuracy: \", train_accuracy)\n",
    "print(\"test accuracy: \", test_accuracy)"
   ]
  },
  {
   "cell_type": "code",
   "execution_count": null,
   "metadata": {},
   "outputs": [],
   "source": []
  }
 ],
 "metadata": {
  "kernelspec": {
   "display_name": "Python 3",
   "language": "python",
   "name": "python3"
  },
  "language_info": {
   "codemirror_mode": {
    "name": "ipython",
    "version": 3
   },
   "file_extension": ".py",
   "mimetype": "text/x-python",
   "name": "python",
   "nbconvert_exporter": "python",
   "pygments_lexer": "ipython3",
   "version": "3.6.3"
  }
 },
 "nbformat": 4,
 "nbformat_minor": 2
}
