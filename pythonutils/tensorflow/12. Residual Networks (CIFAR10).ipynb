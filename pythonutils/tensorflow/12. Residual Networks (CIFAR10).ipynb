{
 "cells": [
  {
   "cell_type": "code",
   "execution_count": 88,
   "metadata": {},
   "outputs": [],
   "source": [
    "import numpy as np\n",
    "import tensorflow as tf\n",
    "from sklearn.preprocessing import LabelBinarizer"
   ]
  },
  {
   "cell_type": "markdown",
   "metadata": {},
   "source": [
    "## CIFAR10 dataset"
   ]
  },
  {
   "cell_type": "code",
   "execution_count": 30,
   "metadata": {},
   "outputs": [],
   "source": [
    "def unpickle(file):\n",
    "    import pickle\n",
    "    with open(file, 'rb') as fo:\n",
    "        data = pickle.load(fo, encoding = 'bytes')\n",
    "    return data"
   ]
  },
  {
   "cell_type": "code",
   "execution_count": 31,
   "metadata": {},
   "outputs": [],
   "source": [
    "def roll_cifar(flat_images):\n",
    "    \"\"\"\n",
    "    Vectorized impl that rolls array of images.\n",
    "    \n",
    "    flat_images -- of shape (m, 3072, ), m images, first red channel pixels, then green, then blue.\n",
    "    \n",
    "    Returns:\n",
    "    images -- of shape (m, 32, 32, 3)\n",
    "    \"\"\"\n",
    "    (m, _) = flat_images.shape\n",
    "    images = np.zeros((m, 32, 32, 3))\n",
    "    images[:, :, :, 0] = flat_images[:, 0:1024].reshape((-1, 32, 32))\n",
    "    images[:, :, :, 1] = flat_images[:, 1024:2048].reshape((-1, 32, 32))\n",
    "    images[:, :, :, 2] = flat_images[:, 2048:3072].reshape((-1, 32, 32))\n",
    "    return images.astype(np.uint8)"
   ]
  },
  {
   "cell_type": "code",
   "execution_count": 32,
   "metadata": {},
   "outputs": [
    {
     "name": "stdout",
     "output_type": "stream",
     "text": [
      "X_train:  (10000, 32, 32, 3)\n",
      "X_test:  (10000, 32, 32, 3)\n",
      "Y_train:  (10000, 10)\n",
      "Y_test:  (10000, 10)\n"
     ]
    }
   ],
   "source": [
    "train_batch1 = unpickle(\"cifar10/cifar-10-batches-py/data_batch_1\")\n",
    "test_batch = unpickle(\"cifar10/cifar-10-batches-py/test_batch\")\n",
    "X_train = roll_cifar(train_batch1[b'data']) / 255.\n",
    "X_test = roll_cifar(test_batch[b'data']) / 255.\n",
    "\n",
    "binarizer = LabelBinarizer().fit(train_batch1[b'labels'])\n",
    "Y_train = binarizer.transform(train_batch1[b'labels'])\n",
    "Y_test = binarizer.transform(test_batch[b'labels'])\n",
    "\n",
    "print(\"X_train: \", X_train.shape)\n",
    "print(\"X_test: \", X_test.shape)\n",
    "print(\"Y_train: \", Y_train.shape)\n",
    "print(\"Y_test: \", Y_test.shape)"
   ]
  },
  {
   "cell_type": "code",
   "execution_count": 33,
   "metadata": {},
   "outputs": [
    {
     "data": {
      "text/plain": [
       "([6, 9, 9, 4, 1, 1, 2, 7, 8, 3], [3, 8, 8, 0, 6, 6, 1, 6, 3, 1])"
      ]
     },
     "execution_count": 33,
     "metadata": {},
     "output_type": "execute_result"
    }
   ],
   "source": [
    "train_batch1[b'labels'][0:10], test_batch[b'labels'][0:10]"
   ]
  },
  {
   "cell_type": "code",
   "execution_count": 34,
   "metadata": {},
   "outputs": [
    {
     "data": {
      "text/plain": [
       "(array([[0, 0, 0, 0, 0, 0, 1, 0, 0, 0],\n",
       "        [0, 0, 0, 0, 0, 0, 0, 0, 0, 1],\n",
       "        [0, 0, 0, 0, 0, 0, 0, 0, 0, 1],\n",
       "        [0, 0, 0, 0, 1, 0, 0, 0, 0, 0],\n",
       "        [0, 1, 0, 0, 0, 0, 0, 0, 0, 0],\n",
       "        [0, 1, 0, 0, 0, 0, 0, 0, 0, 0],\n",
       "        [0, 0, 1, 0, 0, 0, 0, 0, 0, 0],\n",
       "        [0, 0, 0, 0, 0, 0, 0, 1, 0, 0],\n",
       "        [0, 0, 0, 0, 0, 0, 0, 0, 1, 0],\n",
       "        [0, 0, 0, 1, 0, 0, 0, 0, 0, 0]]),\n",
       " array([[0, 0, 0, 1, 0, 0, 0, 0, 0, 0],\n",
       "        [0, 0, 0, 0, 0, 0, 0, 0, 1, 0],\n",
       "        [0, 0, 0, 0, 0, 0, 0, 0, 1, 0],\n",
       "        [1, 0, 0, 0, 0, 0, 0, 0, 0, 0],\n",
       "        [0, 0, 0, 0, 0, 0, 1, 0, 0, 0],\n",
       "        [0, 0, 0, 0, 0, 0, 1, 0, 0, 0],\n",
       "        [0, 1, 0, 0, 0, 0, 0, 0, 0, 0],\n",
       "        [0, 0, 0, 0, 0, 0, 1, 0, 0, 0],\n",
       "        [0, 0, 0, 1, 0, 0, 0, 0, 0, 0],\n",
       "        [0, 1, 0, 0, 0, 0, 0, 0, 0, 0]]))"
      ]
     },
     "execution_count": 34,
     "metadata": {},
     "output_type": "execute_result"
    }
   ],
   "source": [
    "Y_train[0:10, :], Y_test[0:10, :]"
   ]
  },
  {
   "cell_type": "code",
   "execution_count": 69,
   "metadata": {},
   "outputs": [],
   "source": [
    "X_train_small = X_train[0:500, :]\n",
    "Y_train_small = Y_train[0:500, :]\n",
    "X_test_small = X_test[0:200, :]\n",
    "Y_test_small = Y_test[0:200, :]"
   ]
  },
  {
   "cell_type": "markdown",
   "metadata": {},
   "source": [
    "## The problem of very deep neural networks"
   ]
  },
  {
   "cell_type": "markdown",
   "metadata": {},
   "source": [
    "In recent years, neural networks have become deeper, with state-of-the-art networks going from just a few layers (e.g., AlexNet) to over a hundred layers.\n",
    "\n",
    "The main benefit of a very deep network is that it can represent very complex functions. It can also learn features at many different levels of abstraction, from edges (at the lower layers) to very complex features (at the deeper layers). However, using a deeper network doesn't always help. A huge barrier to training them is vanishing gradients: very deep networks often have a gradient signal that goes to zero quickly, thus making gradient descent unbearably slow. More specifically, during gradient descent, as you backprop from the final layer back to the first layer, you are multiplying by the weight matrix on each step, and thus the gradient can decrease exponentially quickly to zero (or, in rare cases, grow exponentially quickly and \"explode\" to take very large values). \n",
    "\n",
    "During training, you might therefore see the magnitude (or norm) of the gradient for the earlier layers descrease to zero very rapidly as training proceeds: "
   ]
  },
  {
   "cell_type": "markdown",
   "metadata": {},
   "source": [
    "<img src=\"img/vanishing_grad_kiank.png\" style=\"width:450px;height:220px;\">\n",
    "<caption><center> <u> <font color='purple'> **Figure 1** </u><font color='purple'>  : **Vanishing gradient** <br> The speed of learning decreases very rapidly for the early layers as the network trains </center></caption>\n",
    "\n",
    "You are now going to solve this problem by building a Residual Network!"
   ]
  },
  {
   "cell_type": "markdown",
   "metadata": {},
   "source": [
    "## Buidling a Residual Network"
   ]
  },
  {
   "cell_type": "markdown",
   "metadata": {},
   "source": [
    "In ResNets, a \"shortcut\" or a \"skip connection\" allows the gradient to be directly backpropagated to earlier layers:  \n",
    "\n",
    "<img src=\"img/skip_connection_kiank.png\" style=\"width:650px;height:200px;\">\n",
    "<caption><center> <u> <font color='purple'> **Figure 2** </u><font color='purple'>  : A ResNet block showing a **skip-connection** <br> </center></caption>\n",
    "\n",
    "The image on the left shows the \"main path\" through the network. The image on the right adds a shortcut to the main path. By stacking these ResNet blocks on top of each other, you can form a very deep network. \n",
    "\n",
    "We also saw in lecture that having ResNet blocks with the shortcut also makes it very easy for one of the blocks to learn an identity function. This means that you can stack on additional ResNet blocks with little risk of harming training set performance. (There is also some evidence that the ease of learning an identity function--even more than skip connections helping with vanishing gradients--accounts for ResNets' remarkable performance.)\n",
    "\n",
    "Two main types of blocks are used in a ResNet, depending mainly on whether the input/output dimensions are same or different. You are going to implement both of them. "
   ]
  },
  {
   "cell_type": "markdown",
   "metadata": {},
   "source": [
    "### 1 - The identity block\n",
    "\n",
    "The identity block is the standard block used in ResNets, and corresponds to the case where the input activation (say $a^{[l]}$) has the same dimension as the output activation (say $a^{[l+2]}$). To flesh out the different steps of what happens in a ResNet's identity block, here is an alternative diagram showing the individual steps:\n",
    "\n",
    "<img src=\"img/idblock2_kiank.png\" style=\"width:650px;height:150px;\">\n",
    "<caption><center> <u> <font color='purple'> **Figure 3** </u><font color='purple'>  : **Identity block.** Skip connection \"skips over\" 2 layers. </center></caption>\n",
    "\n",
    "The upper path is the \"shortcut path.\" The lower path is the \"main path.\" In this diagram, we have also made explicit the CONV2D and ReLU steps in each layer. To speed up training we have also added a BatchNorm step. \n",
    "\n",
    "In this exercise, you'll actually implement a slightly more powerful version of this identity block, in which the skip connection \"skips over\" 3 hidden layers rather than 2 layers. It looks like this: \n",
    "\n",
    "<img src=\"img/idblock3_kiank.png\" style=\"width:650px;height:150px;\">\n",
    "<caption><center> <u> <font color='purple'> **Figure 4** </u><font color='purple'>  : **Identity block.** Skip connection \"skips over\" 3 layers.</center></caption>\n",
    "\n",
    "Here're the individual steps.\n",
    "\n",
    "First component of main path: \n",
    "- The first CONV2D has $F_1$ filters of shape (1,1) and a stride of (1,1). Its padding is \"valid\" and its name should be `conv_name_base + '2a'`. Use 0 as the seed for the random initialization. \n",
    "- The first BatchNorm is normalizing the channels axis.  Its name should be `bn_name_base + '2a'`.\n",
    "- Then apply the ReLU activation function. This has no name and no hyperparameters. \n",
    "\n",
    "Second component of main path:\n",
    "- The second CONV2D has $F_2$ filters of shape $(f,f)$ and a stride of (1,1). Its padding is \"same\" and its name should be `conv_name_base + '2b'`. Use 0 as the seed for the random initialization. \n",
    "- The second BatchNorm is normalizing the channels axis.  Its name should be `bn_name_base + '2b'`.\n",
    "- Then apply the ReLU activation function. This has no name and no hyperparameters. \n",
    "\n",
    "Third component of main path:\n",
    "- The third CONV2D has $F_3$ filters of shape (1,1) and a stride of (1,1). Its padding is \"valid\" and its name should be `conv_name_base + '2c'`. Use 0 as the seed for the random initialization. \n",
    "- The third BatchNorm is normalizing the channels axis.  Its name should be `bn_name_base + '2c'`. Note that there is no ReLU activation function in this component. \n",
    "\n",
    "Final step: \n",
    "- The shortcut and the input are added together.\n",
    "- Then apply the ReLU activation function. This has no name and no hyperparameters. \n"
   ]
  },
  {
   "cell_type": "code",
   "execution_count": 37,
   "metadata": {},
   "outputs": [],
   "source": [
    "def create_filter(f, n_C_prev, n_C, name):\n",
    "    filter_var = tf.get_variable(name, shape = [f, f, n_C_prev, n_C], \n",
    "                                 initializer = tf.contrib.layers.xavier_initializer())\n",
    "    return filter_var\n",
    "\n",
    "def identity_block(X, filters, f, stage, block, phase, bn_decay):\n",
    "    \"\"\"\n",
    "    Implementation of the identity block as defined in Figure 4\n",
    "    \n",
    "    Arguments:\n",
    "    X -- input tensor of shape (m, n_H_prev, n_W_prev, n_C_prev)\n",
    "    filters -- python list of integers, defining the number of filters in the CONV layers of the main path\n",
    "    f -- integer, specifying the shape of the middle CONV's window for the main path\n",
    "    stage -- integer, used to name the layers, depending on their position in the network\n",
    "    block -- string/character, used to name the layers, depending on their position in the network\n",
    "    phase -- bool, whether this is the training phase\n",
    "    bn_decay -- decay rate for calculating the population statistics in batch normalization\n",
    "    \n",
    "    Returns:\n",
    "    X -- output of the identity block, tensor of shape (m, n_H, n_W, n_C)\n",
    "    \"\"\"\n",
    "    conv_name_base = 'res' + str(stage) + block + '_'\n",
    "    \n",
    "    X_shortcut = X\n",
    "    (m, n_H_prev, n_W_prev, n_C_prev) = X.shape\n",
    "    # Make sure number of output_channels is the same as number of input_channels\n",
    "    if n_C_prev != filters[2]:\n",
    "        raise ValueError(\"Inconsistent dimension: Input has \" + n_C_prev + \" channels, output has \" + filters[2] + \" channels.\")    \n",
    "    \n",
    "    F1 = create_filter(1, n_C_prev, filters[0], conv_name_base + '2a_filter')\n",
    "    F2 = create_filter(f, filters[0], filters[1], conv_name_base + '2b_filter')\n",
    "    F3 = create_filter(1, filters[1], filters[2], conv_name_base + '2c_filter')\n",
    "        \n",
    "    # first component\n",
    "    X = tf.nn.conv2d(X, F1, strides = [1, 1, 1, 1], padding = 'VALID', name = conv_name_base + '2a')\n",
    "    X = tf.contrib.layers.batch_norm(X, center = True, scale = True, is_training = phase, decay = bn_decay)\n",
    "    X = tf.nn.relu(X)\n",
    "    \n",
    "    # Second component\n",
    "    X = tf.nn.conv2d(X, F2, strides = [1, 1, 1, 1], padding = 'SAME', name = conv_name_base + '2b')\n",
    "    X = tf.contrib.layers.batch_norm(X, center = True, scale = True, is_training = phase, decay = bn_decay)\n",
    "    X = tf.nn.relu(X)\n",
    "    \n",
    "    # Third component\n",
    "    X = tf.nn.conv2d(X, F3, strides = [1, 1, 1, 1], padding = 'VALID', name = conv_name_base + '2c')\n",
    "    X = tf.contrib.layers.batch_norm(X, center = True, scale = True, is_training = phase, decay = bn_decay)\n",
    "    \n",
    "    # Final step\n",
    "    X = X_shortcut + X\n",
    "    X = tf.nn.relu(X)\n",
    "    \n",
    "    return X\n",
    "    "
   ]
  },
  {
   "cell_type": "markdown",
   "metadata": {},
   "source": [
    "### 2 - The convolutional block\n",
    "\n",
    "You've implemented the ResNet identity block. Next, the ResNet \"convolutional block\" is the other type of block. You can use this type of block when the input and output dimensions don't match up. The difference with the identity block is that there is a CONV2D layer in the shortcut path: \n",
    "\n",
    "<img src=\"img/convblock_kiank.png\" style=\"width:650px;height:150px;\">\n",
    "<caption><center> <u> <font color='purple'> **Figure 5** </u><font color='purple'>  : **Convolutional block** </center></caption>\n",
    "\n",
    "The CONV2D layer in the shortcut path is used to resize the input $x$ to a different dimension, so that the dimensions match up in the final addition needed to add the shortcut value back to the main path. (This plays a similar role as the matrix $W_s$ discussed in lecture.) For example, to reduce the activation dimensions's height and width by a factor of 2, you can use a 1x1 convolution with a stride of 2. The CONV2D layer on the shortcut path does not use any non-linear activation function. Its main role is to just apply a (learned) linear function that reduces the dimension of the input, so that the dimensions match up for the later addition step. \n",
    "\n",
    "The details of the convolutional block are as follows. \n",
    "\n",
    "First component of main path:\n",
    "- The first CONV2D has $F_1$ filters of shape (1,1) and a stride of (s,s). Its padding is \"valid\" and its name should be `conv_name_base + '2a'`. \n",
    "- The first BatchNorm is normalizing the channels axis.  Its name should be `bn_name_base + '2a'`.\n",
    "- Then apply the ReLU activation function. This has no name and no hyperparameters. \n",
    "\n",
    "Second component of main path:\n",
    "- The second CONV2D has $F_2$ filters of (f,f) and a stride of (1,1). Its padding is \"same\" and it's name should be `conv_name_base + '2b'`.\n",
    "- The second BatchNorm is normalizing the channels axis.  Its name should be `bn_name_base + '2b'`.\n",
    "- Then apply the ReLU activation function. This has no name and no hyperparameters. \n",
    "\n",
    "Third component of main path:\n",
    "- The third CONV2D has $F_3$ filters of (1,1) and a stride of (1,1). Its padding is \"valid\" and it's name should be `conv_name_base + '2c'`.\n",
    "- The third BatchNorm is normalizing the channels axis.  Its name should be `bn_name_base + '2c'`. Note that there is no ReLU activation function in this component. \n",
    "\n",
    "Shortcut path:\n",
    "- The CONV2D has $F_3$ filters of shape (1,1) and a stride of (s,s). Its padding is \"valid\" and its name should be `conv_name_base + '1'`.\n",
    "- The BatchNorm is normalizing the channels axis.  Its name should be `bn_name_base + '1'`. \n",
    "\n",
    "Final step: \n",
    "- The shortcut and the main path values are added together.\n",
    "- Then apply the ReLU activation function. This has no name and no hyperparameters. \n",
    "    "
   ]
  },
  {
   "cell_type": "code",
   "execution_count": 41,
   "metadata": {},
   "outputs": [],
   "source": [
    "def convolutional_block(X, filters, f, stage, block, phase, bn_decay, s = 2):\n",
    "    \"\"\"\n",
    "    Implementation of the convolutional block as defined in Figure 5\n",
    "    \n",
    "    Arguments:\n",
    "    X -- input tensor of shape (m, n_H_prev, n_W_prev, n_C_prev)\n",
    "    filters -- python list of integers, defining the number of filters in the CONV layers of the main path\n",
    "    f -- integer, specifying the shape of the middle CONV's window for the main path\n",
    "    stage -- integer, used to name the layers, depending on their position in the network\n",
    "    block -- string/character, used to name the layers, depending on their position in the network\n",
    "    phase -- bool, whether this is the training phase\n",
    "    s -- Integer, specifying the stride to be used\n",
    "    bn_decay -- decay rate for calculating the population statistics in batch normalization\n",
    "\n",
    "    \n",
    "    Returns:\n",
    "    X -- output of the identity block, tensor of shape (m, n_H, n_W, n_C)\n",
    "    \"\"\"\n",
    "    conv_name_base = 'res' + str(stage) + block + '_'\n",
    "    \n",
    "    X_shortcut = X\n",
    "    (m, n_H_prev, n_W_prev, n_C_prev) = X.shape\n",
    "    \n",
    "    F1 = create_filter(1, n_C_prev, filters[0], conv_name_base + '2a_filter')\n",
    "    F2 = create_filter(f, filters[0], filters[1], conv_name_base + '2b_filter')\n",
    "    F3 = create_filter(1, filters[1], filters[2], conv_name_base + '2c_filter')\n",
    "    F4 = create_filter(1, n_C_prev, filters[2], conv_name_base + '1_filter')\n",
    "        \n",
    "    # first component\n",
    "    X = tf.nn.conv2d(X, F1, strides = [1, s, s, 1], padding = 'VALID', name = conv_name_base + '2a')\n",
    "    X = tf.contrib.layers.batch_norm(X, center = True, scale = True, is_training = phase, decay = bn_decay)\n",
    "    X = tf.nn.relu(X)\n",
    "    \n",
    "    # second component\n",
    "    X = tf.nn.conv2d(X, F2, strides = [1, 1, 1, 1], padding = 'SAME', name = conv_name_base + '2b')\n",
    "    X = tf.contrib.layers.batch_norm(X, center = True, scale = True, is_training = phase, decay = bn_decay)\n",
    "    X = tf.nn.relu(X)\n",
    "    \n",
    "    # third component\n",
    "    X = tf.nn.conv2d(X, F3, strides = [1, 1, 1, 1], padding = 'VALID', name = conv_name_base + '2c')\n",
    "    X = tf.contrib.layers.batch_norm(X, center = True, scale = True, is_training = phase, decay = bn_decay)\n",
    "\n",
    "    # Shortcut path\n",
    "    X_shortcut = tf.nn.conv2d(X_shortcut, F4, strides = [1, s, s, 1], padding = 'VALID', name = conv_name_base + '1')\n",
    "    X_shortcut = tf.contrib.layers.batch_norm(X_shortcut, center = True, scale = True, is_training = phase, decay = bn_decay)\n",
    "    \n",
    "    X = X + X_shortcut\n",
    "    x = tf.nn.relu(X)\n",
    "    \n",
    "    return X"
   ]
  },
  {
   "cell_type": "markdown",
   "metadata": {},
   "source": [
    "## Building ResNet (50 layers)"
   ]
  },
  {
   "cell_type": "markdown",
   "metadata": {},
   "source": [
    "## 3 - Building your first ResNet model (50 layers)\n",
    "\n",
    "You now have the necessary blocks to build a very deep ResNet. The following figure describes in detail the architecture of this neural network. \"ID BLOCK\" in the diagram stands for \"Identity block,\" and \"ID BLOCK x3\" means you should stack 3 identity blocks together.\n",
    "\n",
    "<img src=\"img/resnet_kiank.png\" style=\"width:850px;height:150px;\">\n",
    "<caption><center> <u> <font color='purple'> **Figure 6** </u><font color='purple'>  : **ResNet-50 model** </center></caption>\n",
    "\n",
    "The details of this ResNet-50 model are:\n",
    "- Zero-padding pads the input with a pad of (3,3)\n",
    "- Stage 1:\n",
    "    - The 2D Convolution has 64 filters of shape (7,7) and uses a stride of (2,2). Its name is \"conv1\".\n",
    "    - BatchNorm is applied to the channels axis of the input.\n",
    "    - MaxPooling uses a (3,3) window and a (2,2) stride.\n",
    "- Stage 2:\n",
    "    - The convolutional block uses three set of filters of size [64,64,256], \"f\" is 3, \"s\" is 1 and the block is \"a\".\n",
    "    - The 2 identity blocks use three set of filters of size [64,64,256], \"f\" is 3 and the blocks are \"b\" and \"c\".\n",
    "- Stage 3:\n",
    "    - The convolutional block uses three set of filters of size [128,128,512], \"f\" is 3, \"s\" is 2 and the block is \"a\".\n",
    "    - The 3 identity blocks use three set of filters of size [128,128,512], \"f\" is 3 and the blocks are \"b\", \"c\" and \"d\".\n",
    "- Stage 4:\n",
    "    - The convolutional block uses three set of filters of size [256, 256, 1024], \"f\" is 3, \"s\" is 2 and the block is \"a\".\n",
    "    - The 5 identity blocks use three set of filters of size [256, 256, 1024], \"f\" is 3 and the blocks are \"b\", \"c\", \"d\", \"e\" and \"f\".\n",
    "- Stage 5:\n",
    "    - The convolutional block uses three set of filters of size [512, 512, 2048], \"f\" is 3, \"s\" is 2 and the block is \"a\".\n",
    "    - The 2 identity blocks use three set of filters of size [512, 512, 2048], \"f\" is 3 and the blocks are \"b\" and \"c\".\n",
    "- The 2D Average Pooling uses a window of shape (2,2) and its name is \"avg_pool\".\n",
    "- The flatten doesn't have any hyperparameters or name.\n",
    "- The Fully Connected (Dense) layer reduces its input to the number of classes using a softmax activation. Its name should be `'fc' + str(classes)`.\n"
   ]
  },
  {
   "cell_type": "code",
   "execution_count": 77,
   "metadata": {},
   "outputs": [],
   "source": [
    "def ResNet50(X, phase, bn_decay):\n",
    "    \"\"\"\n",
    "    Implementation of the popular ResNet50 the following architecture:\n",
    "    CONV2D -> BATCHNORM -> RELU -> MAXPOOL -> CONVBLOCK -> IDBLOCK*2 -> CONVBLOCK -> IDBLOCK*3\n",
    "    -> CONVBLOCK -> IDBLOCK*5 -> CONVBLOCK -> IDBLOCK*2 -> AVGPOOL -> TOPLAYER\n",
    "\n",
    "    \"\"\"\n",
    "    \n",
    "    # stage 1\n",
    "    F = create_filter(7, 3, 64, 'conv1_filter')\n",
    "    X = tf.nn.conv2d(X, F, strides = [1, 2, 2, 1], padding = 'SAME', name = 'conv1')\n",
    "    X = tf.contrib.layers.batch_norm(X, center = True, scale = True, is_training = phase, decay = bn_decay)\n",
    "    X = tf.nn.relu(X)\n",
    "    X = tf.nn.max_pool(X, ksize = [1, 3, 3, 1], strides = [1, 2, 2, 1], padding = 'SAME')\n",
    "    \n",
    "    # stage 2\n",
    "    X = convolutional_block(X, filters = [64, 64, 256], f = 3, stage = 2, block = 'a', phase = phase, bn_decay = bn_decay, s = 1)\n",
    "    X = identity_block(X, filters = [64, 64, 256], f = 3, stage = 2, block = 'b', phase = phase, bn_decay = bn_decay)\n",
    "    X = identity_block(X, filters = [64, 64, 256], f = 3, stage = 2, block = 'c', phase = phase, bn_decay = bn_decay)\n",
    "    \n",
    "    # stage 3\n",
    "    X = convolutional_block(X, filters = [128, 128, 512], f = 3, stage = 3, block = 'a', phase = phase, bn_decay = bn_decay, s = 2)\n",
    "    X = identity_block(X, filters = [128, 128, 512], f = 3, stage = 3, block = 'b', phase = phase, bn_decay = bn_decay)\n",
    "    X = identity_block(X, filters = [128, 128, 512], f = 3, stage = 3, block = 'c', phase = phase, bn_decay = bn_decay)\n",
    "    X = identity_block(X, filters = [128, 128, 512], f = 3, stage = 3, block = 'd', phase = phase, bn_decay = bn_decay)\n",
    "\n",
    "    # stage 4\n",
    "    X = convolutional_block(X, filters = [256, 256, 1024], f = 3, stage = 4, block = 'a', phase = phase, bn_decay = bn_decay, s = 2)\n",
    "    X = identity_block(X, filters = [256, 256, 1024], f = 3, stage = 4, block = 'b', phase = phase, bn_decay = bn_decay)\n",
    "    X = identity_block(X, filters = [256, 256, 1024], f = 3, stage = 4, block = 'c', phase = phase, bn_decay = bn_decay)\n",
    "    X = identity_block(X, filters = [256, 256, 1024], f = 3, stage = 4, block = 'd', phase = phase, bn_decay = bn_decay)\n",
    "    X = identity_block(X, filters = [256, 256, 1024], f = 3, stage = 4, block = 'e', phase = phase, bn_decay = bn_decay)\n",
    "    X = identity_block(X, filters = [256, 256, 1024], f = 3, stage = 4, block = 'f', phase = phase, bn_decay = bn_decay)\n",
    "    \n",
    "    # stage 5\n",
    "    X = convolutional_block(X, filters = [512, 512, 2048], f = 3, stage = 5, block = 'a', phase = phase, bn_decay = bn_decay, s = 2)\n",
    "    X = identity_block(X, filters = [512, 512, 2048], f = 3, stage = 5, block = 'b', phase = phase, bn_decay = bn_decay)\n",
    "    X = identity_block(X, filters = [512, 512, 2048], f = 3, stage = 5, block = 'c', phase = phase, bn_decay = bn_decay)\n",
    "    \n",
    "    # finishing\n",
    "    X = tf.nn.avg_pool(X, ksize = [1, 2, 2, 1], strides = [1, 2, 2, 1], padding = 'SAME')\n",
    "    X = tf.contrib.layers.flatten(X)\n",
    "    X = tf.contrib.layers.fully_connected(X, 10, activation_fn = None)\n",
    "        \n",
    "    return X"
   ]
  },
  {
   "cell_type": "code",
   "execution_count": 83,
   "metadata": {},
   "outputs": [],
   "source": [
    "def ResNet11(X, phase, bn_decay):\n",
    "    \"\"\"\n",
    "    A simplied version of ResNet with only 11 layers\n",
    "\n",
    "    \"\"\"\n",
    "    \n",
    "    # stage 1\n",
    "    F = create_filter(7, 3, 64, 'conv1_filter')\n",
    "    X = tf.nn.conv2d(X, F, strides = [1, 2, 2, 1], padding = 'SAME', name = 'conv1')\n",
    "    X = tf.contrib.layers.batch_norm(X, center = True, scale = True, is_training = phase, decay = bn_decay)\n",
    "    X = tf.nn.relu(X)\n",
    "    X = tf.nn.max_pool(X, ksize = [1, 3, 3, 1], strides = [1, 2, 2, 1], padding = 'SAME')\n",
    "    \n",
    "    # stage 2\n",
    "    X = convolutional_block(X, filters = [64, 64, 256], f = 3, stage = 2, block = 'a', phase = phase, bn_decay = bn_decay, s = 1)\n",
    "    X = identity_block(X, filters = [64, 64, 256], f = 3, stage = 2, block = 'b', phase = phase, bn_decay = bn_decay)\n",
    "    X = identity_block(X, filters = [64, 64, 256], f = 3, stage = 2, block = 'c', phase = phase, bn_decay = bn_decay)\n",
    "    \n",
    "    # stage 3\n",
    "    \"\"\"X = convolutional_block(X, filters = [128, 128, 512], f = 3, stage = 3, block = 'a', phase = phase, bn_decay = bn_decay, s = 2)\n",
    "    X = identity_block(X, filters = [128, 128, 512], f = 3, stage = 3, block = 'b', phase = phase, bn_decay = bn_decay)\n",
    "    X = identity_block(X, filters = [128, 128, 512], f = 3, stage = 3, block = 'c', phase = phase, bn_decay = bn_decay)\n",
    "    X = identity_block(X, filters = [128, 128, 512], f = 3, stage = 3, block = 'd', phase = phase, bn_decay = bn_decay)\n",
    "\n",
    "    # stage 4\n",
    "    X = convolutional_block(X, filters = [256, 256, 1024], f = 3, stage = 4, block = 'a', phase = phase, bn_decay = bn_decay, s = 2)\n",
    "    X = identity_block(X, filters = [256, 256, 1024], f = 3, stage = 4, block = 'b', phase = phase, bn_decay = bn_decay)\n",
    "    X = identity_block(X, filters = [256, 256, 1024], f = 3, stage = 4, block = 'c', phase = phase, bn_decay = bn_decay)\n",
    "    X = identity_block(X, filters = [256, 256, 1024], f = 3, stage = 4, block = 'd', phase = phase, bn_decay = bn_decay)\n",
    "    X = identity_block(X, filters = [256, 256, 1024], f = 3, stage = 4, block = 'e', phase = phase, bn_decay = bn_decay)\n",
    "    X = identity_block(X, filters = [256, 256, 1024], f = 3, stage = 4, block = 'f', phase = phase, bn_decay = bn_decay)\n",
    "    \n",
    "    # stage 5\n",
    "    X = convolutional_block(X, filters = [512, 512, 2048], f = 3, stage = 5, block = 'a', phase = phase, bn_decay = bn_decay, s = 2)\n",
    "    X = identity_block(X, filters = [512, 512, 2048], f = 3, stage = 5, block = 'b', phase = phase, bn_decay = bn_decay)\n",
    "    X = identity_block(X, filters = [512, 512, 2048], f = 3, stage = 5, block = 'c', phase = phase, bn_decay = bn_decay)\n",
    "    \"\"\"\n",
    "    # finishing\n",
    "    X = tf.nn.avg_pool(X, ksize = [1, 2, 2, 1], strides = [1, 2, 2, 1], padding = 'SAME')\n",
    "    X = tf.contrib.layers.flatten(X)\n",
    "    X = tf.contrib.layers.fully_connected(X, 10, activation_fn = None)\n",
    "        \n",
    "    return X"
   ]
  },
  {
   "cell_type": "code",
   "execution_count": 78,
   "metadata": {},
   "outputs": [],
   "source": [
    "def random_mini_batches(X, Y, mini_batch_size = 64, seed = 0):\n",
    "    \"\"\"\n",
    "    Creates a list of random minibatches from (X, Y)\n",
    "    \n",
    "    Arguments:\n",
    "    X -- input data, of shape (m, n_H, n_W, n_C)\n",
    "    Y -- true \"label\" vector, of shape (m, #classes)\n",
    "    mini_batch_size -- size of the mini-batches, integer\n",
    "    \n",
    "    Returns:\n",
    "    mini_batches -- list of synchronous (mini_batch_X, mini_batch_Y)\n",
    "    \"\"\"\n",
    "    \n",
    "    np.random.seed(seed)            # To make your \"random\" minibatches the same as ours\n",
    "    m = X.shape[0]                  # number of training examples\n",
    "    mini_batches = []\n",
    "        \n",
    "    # Step 1: Shuffle (X, Y)\n",
    "    permutation = list(np.random.permutation(m))\n",
    "    shuffled_X = X[permutation, :]\n",
    "    shuffled_Y = Y[permutation, :]\n",
    "\n",
    "    # Step 2: Partition (shuffled_X, shuffled_Y). Minus the end case.\n",
    "    num_complete_minibatches = np.floor(m/mini_batch_size).astype(int) # number of mini batches of size mini_batch_size in your partitionning\n",
    "    for k in range(0, num_complete_minibatches):\n",
    "        ### START CODE HERE ### (approx. 2 lines)\n",
    "        mini_batch_X = shuffled_X[(k * mini_batch_size) : ((k + 1) * mini_batch_size), :]\n",
    "        mini_batch_Y = shuffled_Y[(k * mini_batch_size) : ((k + 1) * mini_batch_size), :]\n",
    "        ### END CODE HERE ###\n",
    "        mini_batch = (mini_batch_X, mini_batch_Y)\n",
    "        mini_batches.append(mini_batch)\n",
    "    \n",
    "    # Handling the end case (last mini-batch < mini_batch_size)\n",
    "    if m % mini_batch_size != 0:\n",
    "        ### START CODE HERE ### (approx. 2 lines)\n",
    "        mini_batch_X = shuffled_X[(num_complete_minibatches * mini_batch_size) : m, :]\n",
    "        mini_batch_Y = shuffled_Y[(num_complete_minibatches * mini_batch_size) : m, :]\n",
    "        ### END CODE HERE ###\n",
    "        mini_batch = (mini_batch_X, mini_batch_Y)\n",
    "        mini_batches.append(mini_batch)\n",
    "    \n",
    "    return mini_batches"
   ]
  },
  {
   "cell_type": "code",
   "execution_count": 79,
   "metadata": {},
   "outputs": [],
   "source": [
    "def compute_loss(output, Y):\n",
    "    return tf.reduce_mean(tf.nn.softmax_cross_entropy_with_logits(logits = output, labels = Y))\n",
    "\n",
    "def compute_accuracy(output, Y):\n",
    "    return tf.reduce_mean(tf.cast(tf.equal(tf.argmax(output, axis = 1), tf.argmax(Y, axis = 1)), 'float32'))"
   ]
  },
  {
   "cell_type": "code",
   "execution_count": 85,
   "metadata": {},
   "outputs": [],
   "source": [
    "def train(X_training, Y_training, X_test, Y_test, learning_rate = 0.009, num_epochs = 100, minibatch_size = 16):\n",
    "    \n",
    "    tf.reset_default_graph()\n",
    "\n",
    "    m = X_training.shape[0]\n",
    "    X = tf.placeholder(tf.float32, [None, 32, 32, 3])\n",
    "    Y = tf.placeholder(tf.float32, [None, 10])\n",
    "    phase = tf.placeholder(tf.bool)\n",
    "    bn_decay = tf.placeholder(tf.float32)\n",
    "    \n",
    "    #output = ResNet50(X, phase, bn_decay)  # Very slow to train\n",
    "    output = ResNet11(X, phase, bn_decay)\n",
    "    loss = compute_loss(output, Y)\n",
    "    accuracy = compute_accuracy(output, Y)\n",
    "    \n",
    "    update_ops = tf.get_collection(tf.GraphKeys.UPDATE_OPS)\n",
    "    with tf.control_dependencies(update_ops):\n",
    "        train_step = tf.train.AdamOptimizer(learning_rate = learning_rate).minimize(loss)\n",
    "    \n",
    "    train_accuracies = []\n",
    "    test_accuracies = []\n",
    "    \n",
    "    decay = 0.9\n",
    "    minibatch_seed = 0\n",
    "    init = tf.global_variables_initializer()\n",
    "    with tf.Session() as session:\n",
    "        session.run(init)\n",
    "        for i in range(num_epochs):\n",
    "            num_minibatches = m / minibatch_size\n",
    "            minibatch_seed = minibatch_seed + 1\n",
    "            mini_batches = random_mini_batches(X_training, Y_training, minibatch_size, minibatch_seed)\n",
    "            for minibatch in mini_batches:\n",
    "                (X_mini, Y_mini) = minibatch\n",
    "                session.run(train_step, feed_dict = {X: X_mini, Y: Y_mini, phase: True, bn_decay: decay})\n",
    "            \n",
    "            print(session.run(loss, feed_dict = {X: X_training, Y: Y_training, phase: False, bn_decay: decay}))\n",
    "            \n",
    "            train_accuracy = session.run(accuracy, feed_dict = {X: X_training, Y: Y_training, phase: False, bn_decay: decay})\n",
    "            train_accuracies.append(train_accuracy)\n",
    "            \n",
    "            test_accuracy = session.run(accuracy, feed_dict = {X: X_test, Y: Y_test, phase: False, bn_decay: decay})\n",
    "            test_accuracies.append(test_accuracy)\n",
    "\n",
    "    return train_accuracies, test_accuracies\n",
    "        "
   ]
  },
  {
   "cell_type": "code",
   "execution_count": 81,
   "metadata": {},
   "outputs": [
    {
     "name": "stdout",
     "output_type": "stream",
     "text": [
      "180.758\n",
      "9.04345\n",
      "3.50405\n",
      "1.93495\n",
      "1.67911\n",
      "1.65209\n",
      "1.594\n",
      "1.04682\n",
      "1.03578\n",
      "0.765493\n"
     ]
    }
   ],
   "source": [
    "train_accuracies, test_accuracies = train(X_train_small, Y_train_small, X_test_small, Y_test_small, num_epochs = 10, minibatch_size = 32)"
   ]
  },
  {
   "cell_type": "code",
   "execution_count": 82,
   "metadata": {},
   "outputs": [
    {
     "data": {
      "text/plain": [
       "([0.11,\n",
       "  0.19599999,\n",
       "  0.27200001,\n",
       "  0.35600001,\n",
       "  0.44,\n",
       "  0.55199999,\n",
       "  0.52399999,\n",
       "  0.65200001,\n",
       "  0.61799997,\n",
       "  0.73000002],\n",
       " [0.15000001,\n",
       "  0.16,\n",
       "  0.22,\n",
       "  0.215,\n",
       "  0.25,\n",
       "  0.27500001,\n",
       "  0.25,\n",
       "  0.33000001,\n",
       "  0.28,\n",
       "  0.34])"
      ]
     },
     "execution_count": 82,
     "metadata": {},
     "output_type": "execute_result"
    }
   ],
   "source": [
    "train_accuracies, test_accuracies"
   ]
  },
  {
   "cell_type": "code",
   "execution_count": 86,
   "metadata": {},
   "outputs": [
    {
     "name": "stdout",
     "output_type": "stream",
     "text": [
      "1.77212\n",
      "1.79892\n",
      "1.25339\n",
      "1.14722\n",
      "1.15524\n",
      "1.13833\n",
      "1.19067\n",
      "0.760321\n",
      "0.642394\n",
      "1.10358\n"
     ]
    }
   ],
   "source": [
    "train_accuracies, test_accuracies = train(X_train, Y_train, X_test, Y_test, num_epochs = 10, minibatch_size = 100)"
   ]
  },
  {
   "cell_type": "code",
   "execution_count": 90,
   "metadata": {},
   "outputs": [
    {
     "data": {
      "text/plain": [
       "<matplotlib.figure.Figure at 0x1c88c624a8>"
      ]
     },
     "metadata": {},
     "output_type": "display_data"
    },
    {
     "data": {
      "image/png": "[encoded data removed]",
      "text/plain": [
       "<matplotlib.figure.Figure at 0x1a25994c88>"
      ]
     },
     "metadata": {},
     "output_type": "display_data"
    }
   ],
   "source": [
    "import matplotlib.pyplot as plt\n",
    "figure = plt.figure()\n",
    "ax = figure.add_subplot(1, 1, 1)\n",
    "ax.plot(train_accuracies, label=\"train_accuracy\")\n",
    "ax.plot(test_accuracies, label=\"test_accuracy\")\n",
    "plt.show()"
   ]
  },
  {
   "cell_type": "code",
   "execution_count": 91,
   "metadata": {},
   "outputs": [
    {
     "data": {
      "text/plain": [
       "([0.4127,\n",
       "  0.38960001,\n",
       "  0.5535,\n",
       "  0.5898,\n",
       "  0.58670002,\n",
       "  0.59570003,\n",
       "  0.61479998,\n",
       "  0.72920001,\n",
       "  0.77950001,\n",
       "  0.64450002],\n",
       " [0.39820001,\n",
       "  0.37540001,\n",
       "  0.5007,\n",
       "  0.51679999,\n",
       "  0.51849997,\n",
       "  0.50999999,\n",
       "  0.52109998,\n",
       "  0.57440001,\n",
       "  0.60659999,\n",
       "  0.50700003])"
      ]
     },
     "execution_count": 91,
     "metadata": {},
     "output_type": "execute_result"
    }
   ],
   "source": [
    "train_accuracies, test_accuracies"
   ]
  },
  {
   "cell_type": "markdown",
   "metadata": {},
   "source": [
    "Well, at least better than the previous 3-layer model in the 10th notebook."
   ]
  },
  {
   "cell_type": "markdown",
   "metadata": {},
   "source": [
    "<font color='blue'>\n",
    "**What we should remember:**\n",
    "- Very deep \"plain\" networks don't work in practice because they are hard to train due to vanishing gradients.  \n",
    "- The skip-connections help to address the Vanishing Gradient problem. They also make it easy for a ResNet block to learn an identity function. \n",
    "- There are two main type of blocks: The identity block and the convolutional block. \n",
    "- Very deep Residual Networks are built by stacking these blocks together."
   ]
  },
  {
   "cell_type": "markdown",
   "metadata": {},
   "source": [
    "### References \n",
    "\n",
    "This notebook presents the ResNet algorithm due to He et al. (2015). The implementation here also took significant inspiration and follows the structure given in the github repository of Francois Chollet: \n",
    "\n",
    "- Kaiming He, Xiangyu Zhang, Shaoqing Ren, Jian Sun - [Deep Residual Learning for Image Recognition (2015)](https://arxiv.org/abs/1512.03385)\n",
    "- Francois Chollet's github repository: https://github.com/fchollet/deep-learning-models/blob/master/resnet50.py\n"
   ]
  },
  {
   "cell_type": "code",
   "execution_count": null,
   "metadata": {},
   "outputs": [],
   "source": []
  }
 ],
 "metadata": {
  "kernelspec": {
   "display_name": "Python 3",
   "language": "python",
   "name": "python3"
  },
  "language_info": {
   "codemirror_mode": {
    "name": "ipython",
    "version": 3
   },
   "file_extension": ".py",
   "mimetype": "text/x-python",
   "name": "python",
   "nbconvert_exporter": "python",
   "pygments_lexer": "ipython3",
   "version": "3.6.3"
  }
 },
 "nbformat": 4,
 "nbformat_minor": 2
}
