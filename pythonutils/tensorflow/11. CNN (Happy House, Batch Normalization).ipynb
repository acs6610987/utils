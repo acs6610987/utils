{
 "cells": [
  {
   "cell_type": "code",
   "execution_count": 24,
   "metadata": {},
   "outputs": [],
   "source": [
    "import tensorflow as tf\n",
    "import numpy as np\n",
    "import matplotlib.pyplot as plt\n",
    "import h5py\n",
    "import inspect"
   ]
  },
  {
   "cell_type": "markdown",
   "metadata": {},
   "source": [
    "## Happy house dataset"
   ]
  },
  {
   "cell_type": "code",
   "execution_count": 25,
   "metadata": {},
   "outputs": [],
   "source": [
    "training_data = h5py.File(\"./happy_house/train_happy.h5\", \"r\")\n",
    "X_training = np.array(training_data[\"train_set_x\"][:]) / 255\n",
    "Y_training = np.array(training_data[\"train_set_y\"][:])\n",
    "Y_training = Y_training.reshape(Y_training.shape[0], 1)\n",
    "\n",
    "test_data = h5py.File(\"./happy_house/test_happy.h5\", \"r\")\n",
    "X_test = np.array(test_data[\"test_set_x\"][:]) / 255\n",
    "Y_test = np.array(test_data[\"test_set_y\"][:])\n",
    "Y_test = Y_test.reshape(Y_test.shape[0], 1)"
   ]
  },
  {
   "cell_type": "code",
   "execution_count": 26,
   "metadata": {},
   "outputs": [
    {
     "name": "stdout",
     "output_type": "stream",
     "text": [
      "X_training:  (600, 64, 64, 3)\n",
      "Y_training:  (600, 1)\n",
      "X_test:  (150, 64, 64, 3)\n",
      "Y_test:  (150, 1)\n"
     ]
    }
   ],
   "source": [
    "print(\"X_training: \", X_training.shape)\n",
    "print(\"Y_training: \", Y_training.shape)\n",
    "print(\"X_test: \", X_test.shape)\n",
    "print(\"Y_test: \", Y_test.shape)"
   ]
  },
  {
   "cell_type": "code",
   "execution_count": 27,
   "metadata": {
    "scrolled": true
   },
   "outputs": [
    {
     "name": "stdout",
     "output_type": "stream",
     "text": [
      "[0]\n"
     ]
    },
    {
     "data": {
      "image/png": "[encoded data removed]",
      "text/plain": [
       "<matplotlib.figure.Figure at 0x331b896d8>"
      ]
     },
     "metadata": {},
     "output_type": "display_data"
    }
   ],
   "source": [
    "print(Y_training[0])\n",
    "plt.figure(figsize=[3, 3])\n",
    "plt.imshow(X_training[0])\n",
    "plt.show()"
   ]
  },
  {
   "cell_type": "markdown",
   "metadata": {},
   "source": [
    "## Modeling"
   ]
  },
  {
   "cell_type": "markdown",
   "metadata": {},
   "source": [
    "Build the following CNN:\n",
    "\n",
    "CONV -> BN -> RELU -> MAX POOL -> FLATTEN -> SIGMOID\n",
    "\n",
    "**NOTE** on BN (Batch Normalization): It normalizes the values before applying activation functions, and can be applied in any layer of the NN. It is similar to normalizing the input X that makes each feature has zero mean and unit variance. But the difference is, Batch Normalization does not necessarily results in zero mean and unit variance; instead, it uses two learnable parameters $\\gamma$ and $\\beta$ (two for each hidden unit in that layer) to control the mean and scale. These parameters are learned in the same way with gradient descent as weights in the NN. Like normalizing input, BN can make learning faster.\n",
    "\n",
    "There is another **important** note for BN on convolutional output. Suppose the input has shape `B x H0 x W0 x 3`, filter has shape `f x f x 3 x C1`, and output has shape `B x H1 x W1 x C1`. In the naive way, we can normalize over only the first batch dimension `B`, just as above for normal NN output. If so, then each unit (`H1 x W1 x C1` units in total) is normalized independently: it has its own mean and variance, and has its two learnable parameters $\\gamma_{h, w, c}$ and $\\beta_{h, w, c}$.  But for **convolutional layers**, we additionally want the normalization to obey the convolutional property: outputs resulted from the same filter ('C1' filters in total) are normalized in the same way. Hence, each channel is normalized with the same mean and variance, and has its learnable parameters $\\gamma_{c}$ and $\\beta_{c}$. Essentially, we use the **effective minibatch** of size `B x H1 x W1`.\n",
    "\n",
    "Above is necessary for understanding the documentation of the two TensorFlow functions `tf.nn.batch_normalization` and `tf.contrib.layers.batch_norm`\n",
    "\n",
    "In the implementation, one thing that might stand out is the `phase` term. We are going to use it as a placeholder for a boolean which we will insert into `feed_dict`. It will serve as a binary indicator for whether we are in training `phase=True` or testing `phase=False` mode. Recall that batch normalization has distinct behaviors during training verus test time:\n",
    "\n",
    ">**Training**\n",
    "\n",
    "> - Normalize layer activations according to mini-batch statistics.\n",
    "- During the training step, update population statistics approximation via moving average of mini-batch statistics.\n",
    "\n",
    ">**Testing**\n",
    "\n",
    "> - Normalize layer activations according to estimated population statistics.\n",
    "- Do not update population statistics according to mini-batch statistcs from test data."
   ]
  },
  {
   "cell_type": "markdown",
   "metadata": {},
   "source": [
    "## No BN, No minibatch --> Poor performance"
   ]
  },
  {
   "cell_type": "code",
   "execution_count": 28,
   "metadata": {},
   "outputs": [],
   "source": [
    "def create_placeholders(n_H0, n_W0, n_C0, n_y):\n",
    "    X = tf.placeholder(tf.float32, [None, n_H0, n_W0, n_C0])\n",
    "    Y = tf.placeholder(tf.float32, [None, n_y])\n",
    "    return X, Y"
   ]
  },
  {
   "cell_type": "code",
   "execution_count": 44,
   "metadata": {},
   "outputs": [],
   "source": [
    "def initialize_parameters():\n",
    "    W1 = tf.get_variable(\"W1\", [5, 5, 3, 8], initializer = tf.contrib.layers.xavier_initializer())\n",
    "    W2 = tf.get_variable(\"W2\", [3, 3, 8, 16], initializer = tf.contrib.layers.xavier_initializer())\n",
    "    \n",
    "    parameters = {\"W1\": W1, \"W2\": W2}\n",
    "    return parameters"
   ]
  },
  {
   "cell_type": "code",
   "execution_count": 45,
   "metadata": {},
   "outputs": [],
   "source": [
    "def forward_propagation(X, parameters):\n",
    "    \"\"\"\n",
    "    CONV -> RELU -> MAX POOL -> CONV -> RELU -> MAX POOL -> FLATTEN -> SIGMOID\n",
    "    \"\"\"\n",
    "    W1 = parameters[\"W1\"]\n",
    "    W2 = parameters[\"W2\"]\n",
    "    \n",
    "    Z1 = tf.nn.conv2d(X, W1, strides = [1, 1, 1, 1], padding = \"SAME\")\n",
    "    A1 = tf.nn.relu(Z1)\n",
    "    P1 = tf.nn.max_pool(A1, ksize = [1, 2, 2, 1], strides = [1, 2, 2, 1], padding = 'SAME')\n",
    "    \n",
    "    Z2 = tf.nn.conv2d(P1, W2, strides = [1, 1, 1, 1], padding = \"SAME\")\n",
    "    A2 = tf.nn.relu(Z2)\n",
    "    P2 = tf.nn.max_pool(A2, ksize = [1, 2, 2, 1], strides = [1, 2, 2, 1], padding = 'SAME')\n",
    "    \n",
    "    P2 = tf.contrib.layers.flatten(P2)\n",
    "    Z3 = tf.contrib.layers.fully_connected(P2, 1, activation_fn=None)\n",
    "    \n",
    "    return Z3\n",
    "    "
   ]
  },
  {
   "cell_type": "code",
   "execution_count": 46,
   "metadata": {},
   "outputs": [],
   "source": [
    "def compute_cost(output, Y):\n",
    "    return tf.reduce_mean(tf.nn.sigmoid_cross_entropy_with_logits(logits = output, labels = Y))\n",
    "    #return -tf.reduce_mean(Y * tf.log(output) + (1 - Y) * tf.log(1 - output))\n",
    "\n",
    "def compute_accuracy(output, Y):\n",
    "    return tf.reduce_mean(tf.cast(tf.equal(tf.cast(output > 0, 'float32'), Y), 'float32'))"
   ]
  },
  {
   "cell_type": "code",
   "execution_count": 47,
   "metadata": {},
   "outputs": [],
   "source": [
    "def model(X_training, Y_training, X_test, Y_test, learning_rate = 0.009, num_epochs = 100, minibatch_size = 100):\n",
    "    tf.reset_default_graph()        \n",
    "    tf.set_random_seed(3947) # So weird that if I don't set the random seed, the network doesn't work because of weird initialization\n",
    "\n",
    "    (m, n_H0, n_W0, n_C0) = X_training.shape\n",
    "    n_y = Y_training.shape[1]\n",
    "    \n",
    "    X, Y = create_placeholders(n_H0, n_W0, n_C0, n_y)\n",
    "    filters = initialize_parameters()\n",
    "    output = forward_propagation(X, filters)\n",
    "    cost = compute_cost(output, Y)\n",
    "    accuracy = compute_accuracy(output, Y)\n",
    "    \n",
    "    train_step = tf.train.AdamOptimizer(learning_rate = learning_rate).minimize(cost)\n",
    "    \n",
    "    numpy_seed = 1\n",
    "    train_accuracies = []\n",
    "    test_accuracies = []\n",
    "    init = tf.global_variables_initializer()\n",
    "    with tf.Session() as session:\n",
    "        session.run(init)\n",
    "        for i in range(num_epochs):\n",
    "                \n",
    "            session.run(train_step, feed_dict = {X: X_training, Y: Y_training})\n",
    "            print(session.run(cost, feed_dict = {X: X_training, Y: Y_training}))\n",
    "                        \n",
    "            train_accuracy = session.run(accuracy, feed_dict = {X: X_training, Y: Y_training})\n",
    "            train_accuracies.append(train_accuracy)\n",
    "            \n",
    "            test_accuracy = session.run(accuracy, feed_dict = {X: X_test, Y: Y_test})\n",
    "            test_accuracies.append(test_accuracy)\n",
    "    \n",
    "    return train_accuracies, test_accuracies\n",
    "    "
   ]
  },
  {
   "cell_type": "code",
   "execution_count": 48,
   "metadata": {},
   "outputs": [
    {
     "name": "stdout",
     "output_type": "stream",
     "text": [
      "0.688963\n",
      "0.688156\n",
      "0.687404\n",
      "0.686687\n",
      "0.685982\n",
      "0.685278\n",
      "0.684567\n",
      "0.68385\n",
      "0.683133\n",
      "0.682418\n"
     ]
    }
   ],
   "source": [
    "train_accuracies, test_accuracies = model(X_training, Y_training, X_test, Y_test, learning_rate = 0.0001, num_epochs = 10)\n",
    "# learning_rate is so critical here. Setting a bigger value (e.g., 0.01) makes the process meaningless \n",
    "# because the accuracies just oscillate around 0.5\n",
    " "
   ]
  },
  {
   "cell_type": "code",
   "execution_count": 49,
   "metadata": {},
   "outputs": [
    {
     "data": {
      "image/png": "[encoded data removed]",
      "text/plain": [
       "<matplotlib.figure.Figure at 0x11b222358>"
      ]
     },
     "metadata": {},
     "output_type": "display_data"
    }
   ],
   "source": [
    "figure = plt.figure()\n",
    "ax = figure.add_subplot(1, 1, 1)\n",
    "ax.plot(train_accuracies, label = \"No_BN_training\")\n",
    "ax.plot(test_accuracies, label = \"No_BN_test\")\n",
    "ax.legend(loc = \"best\")\n",
    "ax.set_xlabel(\"Iterations\")\n",
    "ax.set_ylabel(\"Accuracy\")\n",
    "plt.show()"
   ]
  },
  {
   "cell_type": "code",
   "execution_count": null,
   "metadata": {},
   "outputs": [],
   "source": [
    "train_accuracies, test_accuracies = model(X_training, Y_training, X_test, Y_test, learning_rate = 0.0001, num_epochs = 30)\n",
    "# learning_rate is so critical here. Setting a bigger value (e.g., 0.01) makes the process meaningless \n",
    "# because the accuracies just oscillate around 0.5"
   ]
  },
  {
   "cell_type": "code",
   "execution_count": null,
   "metadata": {
    "scrolled": true
   },
   "outputs": [],
   "source": [
    "figure = plt.figure()\n",
    "ax = figure.add_subplot(1, 1, 1)\n",
    "ax.plot(train_accuracies, label = \"No_BN_train\")\n",
    "ax.plot(test_accuracies, label = \"No_BN_test\")\n",
    "ax.legend(loc = \"best\")\n",
    "ax.set_xlabel(\"Iterations\")\n",
    "ax.set_ylabel(\"Accuracy\")\n",
    "plt.show()"
   ]
  },
  {
   "cell_type": "markdown",
   "metadata": {},
   "source": [
    "## With Minibatch"
   ]
  },
  {
   "cell_type": "code",
   "execution_count": 51,
   "metadata": {},
   "outputs": [],
   "source": [
    "def random_mini_batches(X, Y, mini_batch_size = 64, seed = 0):\n",
    "    \"\"\"\n",
    "    Creates a list of random minibatches from (X, Y)\n",
    "    \n",
    "    Arguments:\n",
    "    X -- input data, of shape (m, n_H, n_W, n_C)\n",
    "    Y -- true \"label\" vector, of shape (m, #classes)\n",
    "    mini_batch_size -- size of the mini-batches, integer\n",
    "    \n",
    "    Returns:\n",
    "    mini_batches -- list of synchronous (mini_batch_X, mini_batch_Y)\n",
    "    \"\"\"\n",
    "    \n",
    "    np.random.seed(seed)            # To make your \"random\" minibatches the same as ours\n",
    "    m = X.shape[0]                  # number of training examples\n",
    "    mini_batches = []\n",
    "        \n",
    "    # Step 1: Shuffle (X, Y)\n",
    "    permutation = list(np.random.permutation(m))\n",
    "    shuffled_X = X[permutation, :]\n",
    "    shuffled_Y = Y[permutation, :]\n",
    "\n",
    "    # Step 2: Partition (shuffled_X, shuffled_Y). Minus the end case.\n",
    "    num_complete_minibatches = np.floor(m/mini_batch_size).astype(int) # number of mini batches of size mini_batch_size in your partitionning\n",
    "    for k in range(0, num_complete_minibatches):\n",
    "        ### START CODE HERE ### (approx. 2 lines)\n",
    "        mini_batch_X = shuffled_X[(k * mini_batch_size) : ((k + 1) * mini_batch_size), :]\n",
    "        mini_batch_Y = shuffled_Y[(k * mini_batch_size) : ((k + 1) * mini_batch_size), :]\n",
    "        ### END CODE HERE ###\n",
    "        mini_batch = (mini_batch_X, mini_batch_Y)\n",
    "        mini_batches.append(mini_batch)\n",
    "    \n",
    "    # Handling the end case (last mini-batch < mini_batch_size)\n",
    "    if m % mini_batch_size != 0:\n",
    "        ### START CODE HERE ### (approx. 2 lines)\n",
    "        mini_batch_X = shuffled_X[(num_complete_minibatches * mini_batch_size) : m, :]\n",
    "        mini_batch_Y = shuffled_Y[(num_complete_minibatches * mini_batch_size) : m, :]\n",
    "        ### END CODE HERE ###\n",
    "        mini_batch = (mini_batch_X, mini_batch_Y)\n",
    "        mini_batches.append(mini_batch)\n",
    "    \n",
    "    return mini_batches"
   ]
  },
  {
   "cell_type": "code",
   "execution_count": 56,
   "metadata": {},
   "outputs": [],
   "source": [
    "def model_minibatch(X_training, Y_training, X_test, Y_test, learning_rate = 0.009, num_epochs = 100, minibatch_size = 16):\n",
    "    tf.reset_default_graph()        \n",
    "    tf.set_random_seed(3947) # So weird that if I don't set the random seed, the network doesn't work because of weird initialization\n",
    "\n",
    "    (m, n_H0, n_W0, n_C0) = X_training.shape\n",
    "    n_y = Y_training.shape[1]\n",
    "    \n",
    "    X, Y = create_placeholders(n_H0, n_W0, n_C0, n_y)\n",
    "    filters = initialize_parameters()\n",
    "    output = forward_propagation(X, filters)\n",
    "    cost = compute_cost(output, Y)\n",
    "    accuracy = compute_accuracy(output, Y)\n",
    "     \n",
    "    train_step = tf.train.AdamOptimizer(learning_rate = learning_rate).minimize(cost)\n",
    "    \n",
    "    numpy_seed = 1\n",
    "    train_accuracies = []\n",
    "    test_accuracies = []\n",
    "    init = tf.global_variables_initializer()\n",
    "    with tf.Session() as session:\n",
    "        session.run(init)\n",
    "        for i in range(num_epochs):\n",
    "            num_minibatches = m / minibatch_size\n",
    "            numpy_seed = numpy_seed + 1\n",
    "            minibatches = random_mini_batches(X_training, Y_training, minibatch_size, numpy_seed)\n",
    "            for minibatch in minibatches:\n",
    "                (minibatch_X, minibatch_Y) = minibatch\n",
    "                session.run(train_step, feed_dict = {X: minibatch_X, Y: minibatch_Y})\n",
    "                \n",
    "            print(session.run(cost, feed_dict = {X: X_training, Y: Y_training}))\n",
    "                        \n",
    "            train_accuracy = session.run(accuracy, feed_dict = {X: X_training, Y: Y_training})\n",
    "            train_accuracies.append(train_accuracy)\n",
    "            \n",
    "            test_accuracy = session.run(accuracy, feed_dict = {X: X_test, Y: Y_test})\n",
    "            test_accuracies.append(test_accuracy)\n",
    "    \n",
    "    return train_accuracies, test_accuracies\n",
    "    "
   ]
  },
  {
   "cell_type": "code",
   "execution_count": 59,
   "metadata": {
    "scrolled": true
   },
   "outputs": [
    {
     "name": "stdout",
     "output_type": "stream",
     "text": [
      "0.667226\n",
      "0.502302\n",
      "0.329134\n",
      "0.277815\n",
      "0.202483\n",
      "0.16907\n",
      "0.190619\n",
      "0.200192\n",
      "0.125511\n",
      "0.116463\n"
     ]
    }
   ],
   "source": [
    "train_accuracies_minibatch, test_accuracies_minibatch = model_minibatch(X_training, Y_training, X_test, Y_test, learning_rate = 0.001, num_epochs = 10)"
   ]
  },
  {
   "cell_type": "code",
   "execution_count": 60,
   "metadata": {},
   "outputs": [
    {
     "data": {
      "image/png": "[encoded data removed]",
      "text/plain": [
       "<matplotlib.figure.Figure at 0x11e7bc6d8>"
      ]
     },
     "metadata": {},
     "output_type": "display_data"
    }
   ],
   "source": [
    "figure = plt.figure()\n",
    "ax = figure.add_subplot(1, 1, 1)\n",
    "ax.plot(train_accuracies_minibatch, label = \"Minibatch_training\")\n",
    "ax.plot(test_accuracies_minibatch, label = \"Minibatch_test\")\n",
    "ax.legend(loc = \"best\")\n",
    "ax.set_xlabel(\"Iterations\")\n",
    "ax.set_ylabel(\"Accuracy\")\n",
    "plt.show()"
   ]
  },
  {
   "cell_type": "markdown",
   "metadata": {},
   "source": [
    "## With minibatch, BN"
   ]
  },
  {
   "cell_type": "code",
   "execution_count": 75,
   "metadata": {},
   "outputs": [],
   "source": [
    "def forward_propagation_bn(X, parameters, phase):\n",
    "    \"\"\"\n",
    "    CONV -> BN -> RELU -> MAX POOL -> FLATTEN -> SIGMOID\n",
    "    \"\"\"\n",
    "    W1 = parameters[\"W1\"]\n",
    "    W2 = parameters[\"W2\"]\n",
    "    \n",
    "    Z1 = tf.nn.conv2d(X, W1, strides = [1, 1, 1, 1], padding = \"SAME\")\n",
    "    # 'decay' param is critical below. The default value 0.999 does not work well in this example.\n",
    "    # With 0.999, we got a super low test accuracy (around just 57%)\n",
    "    # But with 0.9, we got a reasonable test accuracy 95%\n",
    "    # I think decay rate 0.999 does not give a good estimation of population statistics\n",
    "    BN1 = tf.contrib.layers.batch_norm(Z1, center=True, scale=True, is_training=phase, decay=0.9) \n",
    "    A1 = tf.nn.relu(BN1)\n",
    "    P1 = tf.nn.max_pool(A1, ksize = [1, 2, 2, 1], strides = [1, 2, 2, 1], padding = 'SAME')\n",
    "    \n",
    "    Z2 = tf.nn.conv2d(P1, W2, strides = [1, 1, 1, 1], padding = \"SAME\")\n",
    "    BN2 = tf.contrib.layers.batch_norm(Z2, center = True, scale = True, is_training = phase, decay=0.9)\n",
    "    A2 = tf.nn.relu(BN2)\n",
    "    P2 = tf.nn.max_pool(A2, ksize = [1, 2, 2, 1], strides = [1, 2, 2, 1], padding = 'SAME')\n",
    "    \n",
    "    P2 = tf.contrib.layers.flatten(P2)\n",
    "    Z3 = tf.contrib.layers.fully_connected(P2, 1, activation_fn=None)\n",
    "    \n",
    "    return Z3\n",
    "    "
   ]
  },
  {
   "cell_type": "code",
   "execution_count": 76,
   "metadata": {},
   "outputs": [],
   "source": [
    "def model_bn(X_training, Y_training, X_test, Y_test, learning_rate = 0.009, num_epochs = 100, minibatch_size = 16):\n",
    "    tf.reset_default_graph()        \n",
    "    tf.set_random_seed(3947) # So weird that if I don't set the random seed, the network doesn't work because of weird initialization\n",
    "\n",
    "    (m, n_H0, n_W0, n_C0) = X_training.shape\n",
    "    n_y = Y_training.shape[1]\n",
    "    \n",
    "    X, Y = create_placeholders(n_H0, n_W0, n_C0, n_y)\n",
    "    phase = tf.placeholder(tf.bool)\n",
    "    filters = initialize_parameters()\n",
    "    output = forward_propagation_bn(X, filters, phase)\n",
    "    cost = compute_cost(output, Y)\n",
    "    accuracy = compute_accuracy(output, Y)\n",
    "     \n",
    "    # These three lines are necessary for telling TensorFlow to compute the moving average \n",
    "    # of mean and variance in batch normalization \n",
    "    update_ops = tf.get_collection(tf.GraphKeys.UPDATE_OPS) # Get the update operations\n",
    "    with tf.control_dependencies(update_ops): # Everything inside this context is dependent on 'update_ops'\n",
    "        # Ensures that we execute the update_ops before performing the train_step\n",
    "        train_step = tf.train.AdamOptimizer(learning_rate = learning_rate).minimize(cost)\n",
    "    \n",
    "    numpy_seed = 1\n",
    "    train_accuracies = []\n",
    "    test_accuracies = []\n",
    "    init = tf.global_variables_initializer()\n",
    "    with tf.Session() as session:\n",
    "        session.run(init)\n",
    "        for i in range(num_epochs):\n",
    "            num_minibatches = m / minibatch_size\n",
    "            numpy_seed = numpy_seed + 1\n",
    "            minibatches = random_mini_batches(X_training, Y_training, minibatch_size, numpy_seed)\n",
    "            for minibatch in minibatches:\n",
    "                (minibatch_X, minibatch_Y) = minibatch\n",
    "                session.run(train_step, feed_dict = {X: minibatch_X, Y: minibatch_Y, phase: True})\n",
    "                \n",
    "            print(session.run(cost, feed_dict = {X: X_training, Y: Y_training, phase: False}))\n",
    "                        \n",
    "            train_accuracy = session.run(accuracy, feed_dict = {X: X_training, Y: Y_training, phase: False})\n",
    "            train_accuracies.append(train_accuracy)\n",
    "            \n",
    "            test_accuracy = session.run(accuracy, feed_dict = {X: X_test, Y: Y_test, phase: False})\n",
    "            test_accuracies.append(test_accuracy)\n",
    "    \n",
    "    return train_accuracies, test_accuracies\n",
    "    "
   ]
  },
  {
   "cell_type": "code",
   "execution_count": 77,
   "metadata": {},
   "outputs": [
    {
     "name": "stdout",
     "output_type": "stream",
     "text": [
      "0.443166\n",
      "0.311995\n",
      "0.1406\n",
      "0.12509\n",
      "0.179309\n",
      "0.0854035\n",
      "0.0577129\n",
      "0.101101\n",
      "0.0656323\n",
      "0.0485306\n"
     ]
    }
   ],
   "source": [
    "train_accuracies_bn, test_accuracies_bn = model_bn(X_training, Y_training, X_test, Y_test, learning_rate = 0.001, num_epochs = 10)"
   ]
  },
  {
   "cell_type": "code",
   "execution_count": 78,
   "metadata": {},
   "outputs": [
    {
     "data": {
      "image/png": "[encoded data removed]",
      "text/plain": [
       "<matplotlib.figure.Figure at 0x11e7dd828>"
      ]
     },
     "metadata": {},
     "output_type": "display_data"
    }
   ],
   "source": [
    "figure = plt.figure()\n",
    "ax = figure.add_subplot(1, 1, 1)\n",
    "ax.plot(train_accuracies_bn, label = \"BN_training\")\n",
    "ax.plot(test_accuracies_bn, label = \"BN_test\")\n",
    "ax.legend(loc = \"best\")\n",
    "ax.set_xlabel(\"Iterations\")\n",
    "ax.set_ylabel(\"Accuracy\")\n",
    "plt.show()"
   ]
  },
  {
   "cell_type": "code",
   "execution_count": 80,
   "metadata": {},
   "outputs": [
    {
     "data": {
      "text/plain": [
       "([0.84500003,\n",
       "  0.88333333,\n",
       "  0.97166669,\n",
       "  0.97000003,\n",
       "  0.91166669,\n",
       "  0.97166669,\n",
       "  0.99000001,\n",
       "  0.96666664,\n",
       "  0.98833334,\n",
       "  0.99166667],\n",
       " [0.77999997,\n",
       "  0.85333335,\n",
       "  0.94,\n",
       "  0.93333334,\n",
       "  0.81333333,\n",
       "  0.95333332,\n",
       "  0.95333332,\n",
       "  0.92666668,\n",
       "  0.95999998,\n",
       "  0.95999998])"
      ]
     },
     "execution_count": 80,
     "metadata": {},
     "output_type": "execute_result"
    }
   ],
   "source": [
    "train_accuracies_bn, test_accuracies_bn"
   ]
  },
  {
   "cell_type": "code",
   "execution_count": null,
   "metadata": {},
   "outputs": [],
   "source": []
  }
 ],
 "metadata": {
  "kernelspec": {
   "display_name": "Python 3",
   "language": "python",
   "name": "python3"
  },
  "language_info": {
   "codemirror_mode": {
    "name": "ipython",
    "version": 3
   },
   "file_extension": ".py",
   "mimetype": "text/x-python",
   "name": "python",
   "nbconvert_exporter": "python",
   "pygments_lexer": "ipython3",
   "version": "3.6.3"
  }
 },
 "nbformat": 4,
 "nbformat_minor": 2
}
