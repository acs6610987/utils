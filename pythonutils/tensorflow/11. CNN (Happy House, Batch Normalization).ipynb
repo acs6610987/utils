{
 "cells": [
  {
   "cell_type": "code",
   "execution_count": 1,
   "metadata": {},
   "outputs": [],
   "source": [
    "import tensorflow as tf\n",
    "import numpy as np\n",
    "import matplotlib.pyplot as plt\n",
    "import h5py\n",
    "import inspect"
   ]
  },
  {
   "cell_type": "markdown",
   "metadata": {},
   "source": [
    "## Happy house dataset"
   ]
  },
  {
   "cell_type": "code",
   "execution_count": 2,
   "metadata": {},
   "outputs": [],
   "source": [
    "training_data = h5py.File(\"./happy_house/train_happy.h5\", \"r\")\n",
    "X_training = np.array(training_data[\"train_set_x\"][:]) / 255\n",
    "Y_training = np.array(training_data[\"train_set_y\"][:])\n",
    "Y_training = Y_training.reshape(Y_training.shape[0], 1)\n",
    "\n",
    "test_data = h5py.File(\"./happy_house/test_happy.h5\", \"r\")\n",
    "X_test = np.array(test_data[\"test_set_x\"][:]) / 255\n",
    "Y_test = np.array(test_data[\"test_set_y\"][:])\n",
    "Y_test = Y_test.reshape(Y_test.shape[0], 1)"
   ]
  },
  {
   "cell_type": "code",
   "execution_count": 3,
   "metadata": {},
   "outputs": [
    {
     "name": "stdout",
     "output_type": "stream",
     "text": [
      "X_training:  (600, 64, 64, 3)\n",
      "Y_training:  (600, 1)\n",
      "X_test:  (150, 64, 64, 3)\n",
      "Y_test:  (150, 1)\n"
     ]
    }
   ],
   "source": [
    "print(\"X_training: \", X_training.shape)\n",
    "print(\"Y_training: \", Y_training.shape)\n",
    "print(\"X_test: \", X_test.shape)\n",
    "print(\"Y_test: \", Y_test.shape)"
   ]
  },
  {
   "cell_type": "code",
   "execution_count": 4,
   "metadata": {
    "scrolled": true
   },
   "outputs": [
    {
     "name": "stdout",
     "output_type": "stream",
     "text": [
      "[0]\n"
     ]
    },
    {
     "data": {
      "image/png": "[encoded data removed]",
      "text/plain": [
       "<matplotlib.figure.Figure at 0x119493c50>"
      ]
     },
     "metadata": {},
     "output_type": "display_data"
    }
   ],
   "source": [
    "print(Y_training[0])\n",
    "plt.figure(figsize=[3, 3])\n",
    "plt.imshow(X_training[0])\n",
    "plt.show()"
   ]
  },
  {
   "cell_type": "markdown",
   "metadata": {},
   "source": [
    "## Modeling"
   ]
  },
  {
   "cell_type": "markdown",
   "metadata": {},
   "source": [
    "Build the following CNN:\n",
    "\n",
    "CONV -> BN -> RELU -> MAX POOL -> FLATTEN -> SIGMOID\n",
    "\n",
    "**NOTE** on BN (Batch Normalization): It normalizes the values before applying activation functions, and can be applied in any layer of the NN. It is similar to normalizing the input X that makes each feature has zero mean and unit variance. But the difference is, Batch Normalization does not necessarily results in zero mean and unit variance; instead, it uses two learnable parameters $\\gamma$ and $\\beta$ (two for each hidden unit in that layer) to control the mean and scale. These parameters are learned in the same way with gradient descent as weights in the NN. Like normalizing input, BN can make learning faster.\n",
    "\n",
    "There is another **important** note for BN on convolutional output. Suppose the input has shape `B x H0 x W0 x 3`, filter has shape `f x f x 3 x C1`, and output has shape `B x H1 x W1 x C1`. In the naive way, we can normalize over only the first batch dimension `B`, just as above for normal NN output. If so, then each unit (`H1 x W1 x C1` units in total) is normalized independently: it has its own mean and variance, and has its two learnable parameters $\\gamma_{h, w, c}$ and $\\beta_{h, w, c}$.  But for **convolutional layers**, we additionally want the normalization to obey the convolutional property: outputs resulted from the same filter ('C1' filters in total) are normalized in the same way. Hence, each channel is normalized with the same mean and variance, and has its learnable parameters $\\gamma_{c}$ and $\\beta_{c}$. Essentially, we use the **effective minibatch** of size `B x H1 x W1`.\n",
    "\n",
    "Above is necessary for understanding the documentation of the two TensorFlow functions `tf.nn.batch_normalization` and `tf.contrib.layers.batch_norm`\n",
    "\n",
    "In the implementation, one thing that might stand out is the `phase` term. We are going to use it as a placeholder for a boolean which we will insert into `feed_dict`. It will serve as a binary indicator for whether we are in training `phase=True` or testing `phase=False` mode. Recall that batch normalization has distinct behaviors during training verus test time:\n",
    "\n",
    ">**Training**\n",
    "\n",
    "> - Normalize layer activations according to mini-batch statistics.\n",
    "- During the training step, update population statistics approximation via moving average of mini-batch statistics.\n",
    "\n",
    ">**Testing**\n",
    "\n",
    "> - Normalize layer activations according to estimated population statistics.\n",
    "- Do not update population statistics according to mini-batch statistcs from test data."
   ]
  },
  {
   "cell_type": "code",
   "execution_count": 5,
   "metadata": {},
   "outputs": [],
   "source": [
    "def create_placeholders(n_H0, n_W0, n_C0, n_y):\n",
    "    X = tf.placeholder(tf.float32, [None, n_H0, n_W0, n_C0])\n",
    "    Y = tf.placeholder(tf.float32, [None, n_y])\n",
    "    return X, Y"
   ]
  },
  {
   "cell_type": "code",
   "execution_count": 6,
   "metadata": {},
   "outputs": [],
   "source": [
    "def initialize_parameters():\n",
    "    W1 = tf.get_variable(\"W1\", [7, 7, 3, 16], initializer = tf.contrib.layers.xavier_initializer(seed = 0))\n",
    "    \n",
    "    parameters = {\"W1\": W1}\n",
    "    return parameters"
   ]
  },
  {
   "cell_type": "code",
   "execution_count": 16,
   "metadata": {},
   "outputs": [],
   "source": [
    "def forward_propagation(X, parameters):\n",
    "    \"\"\"\n",
    "    CONV -> RELU -> MAX POOL -> FLATTEN -> SIGMOID\n",
    "    \"\"\"\n",
    "    W1 = parameters[\"W1\"]\n",
    "    \n",
    "    Z1 = tf.nn.conv2d(X, W1, strides = [1, 1, 1, 1], padding = \"SAME\")\n",
    "    A1 = tf.nn.relu(Z1)\n",
    "    P1 = tf.nn.max_pool(A1, ksize = [1, 2, 2, 1], strides = [1, 2, 2, 1], padding = 'SAME')\n",
    "    P1 = tf.contrib.layers.flatten(P1)\n",
    "    A2 = tf.contrib.layers.fully_connected(P1, 1, activation_fn=None)\n",
    "    \n",
    "    return A2\n",
    "    "
   ]
  },
  {
   "cell_type": "code",
   "execution_count": 17,
   "metadata": {},
   "outputs": [
    {
     "name": "stdout",
     "output_type": "stream",
     "text": [
      "(x, mean, variance, offset, scale, variance_epsilon, name=None)\n"
     ]
    }
   ],
   "source": [
    "print(inspect.signature(tf.nn.batch_normalization))"
   ]
  },
  {
   "cell_type": "code",
   "execution_count": 18,
   "metadata": {},
   "outputs": [],
   "source": [
    "def compute_cost(output, Y):\n",
    "    return tf.reduce_mean(tf.nn.sigmoid_cross_entropy_with_logits(logits = output, labels = Y))\n",
    "    #return -tf.reduce_mean(Y * tf.log(output) + (1 - Y) * tf.log(1 - output))\n",
    "\n",
    "def compute_accuracy(output, Y):\n",
    "    return tf.reduce_mean(tf.cast(tf.equal(tf.cast(output > 0, 'float32'), Y), 'float32'))"
   ]
  },
  {
   "cell_type": "code",
   "execution_count": 19,
   "metadata": {},
   "outputs": [],
   "source": [
    "def random_mini_batches(X, Y, mini_batch_size = 64, seed = 0):\n",
    "    \"\"\"\n",
    "    Creates a list of random minibatches from (X, Y)\n",
    "    \n",
    "    Arguments:\n",
    "    X -- input data, of shape (m, n_H, n_W, n_C)\n",
    "    Y -- true \"label\" vector, of shape (m, #classes)\n",
    "    mini_batch_size -- size of the mini-batches, integer\n",
    "    \n",
    "    Returns:\n",
    "    mini_batches -- list of synchronous (mini_batch_X, mini_batch_Y)\n",
    "    \"\"\"\n",
    "    \n",
    "    np.random.seed(seed)            # To make your \"random\" minibatches the same as ours\n",
    "    m = X.shape[0]                  # number of training examples\n",
    "    mini_batches = []\n",
    "        \n",
    "    # Step 1: Shuffle (X, Y)\n",
    "    permutation = list(np.random.permutation(m))\n",
    "    shuffled_X = X[permutation, :]\n",
    "    shuffled_Y = Y[permutation, :]\n",
    "\n",
    "    # Step 2: Partition (shuffled_X, shuffled_Y). Minus the end case.\n",
    "    num_complete_minibatches = np.floor(m/mini_batch_size).astype(int) # number of mini batches of size mini_batch_size in your partitionning\n",
    "    for k in range(0, num_complete_minibatches):\n",
    "        ### START CODE HERE ### (approx. 2 lines)\n",
    "        mini_batch_X = shuffled_X[(k * mini_batch_size) : ((k + 1) * mini_batch_size), :]\n",
    "        mini_batch_Y = shuffled_Y[(k * mini_batch_size) : ((k + 1) * mini_batch_size), :]\n",
    "        ### END CODE HERE ###\n",
    "        mini_batch = (mini_batch_X, mini_batch_Y)\n",
    "        mini_batches.append(mini_batch)\n",
    "    \n",
    "    # Handling the end case (last mini-batch < mini_batch_size)\n",
    "    if m % mini_batch_size != 0:\n",
    "        ### START CODE HERE ### (approx. 2 lines)\n",
    "        mini_batch_X = shuffled_X[(num_complete_minibatches * mini_batch_size) : m, :]\n",
    "        mini_batch_Y = shuffled_Y[(num_complete_minibatches * mini_batch_size) : m, :]\n",
    "        ### END CODE HERE ###\n",
    "        mini_batch = (mini_batch_X, mini_batch_Y)\n",
    "        mini_batches.append(mini_batch)\n",
    "    \n",
    "    return mini_batches"
   ]
  },
  {
   "cell_type": "code",
   "execution_count": 20,
   "metadata": {},
   "outputs": [],
   "source": [
    "def model(X_training, Y_training, X_test, Y_test, learning_rate = 0.009, num_epochs = 100, minibatch_size = 100):\n",
    "    tf.reset_default_graph()        \n",
    "    tf.set_random_seed(3947) # So weird that if I don't set the random seed, the network doesn't work because of weird initialization\n",
    "\n",
    "    (m, n_H0, n_W0, n_C0) = X_training.shape\n",
    "    n_y = Y_training.shape[1]\n",
    "    \n",
    "    X, Y = create_placeholders(n_H0, n_W0, n_C0, n_y)\n",
    "    filters = initialize_parameters()\n",
    "    output = forward_propagation(X, filters)\n",
    "    cost = compute_cost(output, Y)\n",
    "    accuracy = compute_accuracy(output, Y)\n",
    "     \n",
    "    # These three lines are necessary for telling TensorFlow to compute the moving average \n",
    "    # of mean and variance in batch normalization \n",
    "    #update_ops = tf.get_collection(tf.GraphKeys.UPDATE_OPS) # Get the update operations\n",
    "    #with tf.control_dependencies(update_ops): # Everything inside this context is dependent on 'update_ops'\n",
    "        # Ensures that we execute the update_ops before performing the train_step\n",
    "    train_step = tf.train.AdamOptimizer(learning_rate = learning_rate).minimize(cost)\n",
    "    \n",
    "    numpy_seed = 1\n",
    "    train_accuracies = []\n",
    "    test_accuracies = []\n",
    "    init = tf.global_variables_initializer()\n",
    "    with tf.Session() as session:\n",
    "        session.run(init)\n",
    "        for i in range(num_epochs):\n",
    "            #num_minibatches = m / minibatch_size\n",
    "            #numpy_seed = numpy_seed + 1\n",
    "            #minibatches = random_mini_batches(X_training, Y_training, minibatch_size, numpy_seed)\n",
    "            #for minibatch in minibatches:\n",
    "            #    (minibatch_X, minibatch_Y) = minibatch\n",
    "            #    session.run(train_step, feed_dict = {X: minibatch_X, Y: minibatch_Y})\n",
    "                \n",
    "            session.run(train_step, feed_dict = {X: X_training, Y: Y_training})\n",
    "            print(session.run(cost, feed_dict = {X: X_training, Y: Y_training}))\n",
    "                        \n",
    "            training_accur\n",
    "            \n",
    "            test_accuracy = session.run(accuracy, feed_dict = {X: X_training, Y: Y_training})\n",
    "            test_accuracies.append(test_accuracy)\n",
    "    \n",
    "    return test_accuracies\n",
    "    "
   ]
  },
  {
   "cell_type": "code",
   "execution_count": 33,
   "metadata": {},
   "outputs": [
    {
     "name": "stdout",
     "output_type": "stream",
     "text": [
      "0.68931\n",
      "0.683552\n",
      "0.677961\n",
      "0.672537\n",
      "0.667217\n",
      "0.661979\n",
      "0.6568\n",
      "0.651653\n",
      "0.646582\n",
      "0.641571\n"
     ]
    }
   ],
   "source": [
    "accuracies = model(X_training, Y_training, X_test, Y_test, learning_rate = 0.0001, num_epochs = 10)\n",
    "# learning_rate is so critical here. Setting a bigger value (e.g., 0.01) makes the process meaningless \n",
    "# because the accuracies just oscillate around 0.5\n",
    " "
   ]
  },
  {
   "cell_type": "code",
   "execution_count": 34,
   "metadata": {},
   "outputs": [
    {
     "data": {
      "image/png": "[encoded data removed]",
      "text/plain": [
       "<matplotlib.figure.Figure at 0x1a3677f470>"
      ]
     },
     "metadata": {},
     "output_type": "display_data"
    }
   ],
   "source": [
    "figure = plt.figure()\n",
    "ax = figure.add_subplot(1, 1, 1)\n",
    "ax.plot(accuracies, label = \"No_BN\")\n",
    "ax.legend(loc = \"best\")\n",
    "ax.set_xlabel(\"Iterations\")\n",
    "ax.set_ylabel(\"Accuracy\")\n",
    "plt.show()"
   ]
  },
  {
   "cell_type": "code",
   "execution_count": 35,
   "metadata": {},
   "outputs": [
    {
     "name": "stdout",
     "output_type": "stream",
     "text": [
      "0.68931\n",
      "0.683552\n",
      "0.677961\n",
      "0.672537\n",
      "0.667217\n",
      "0.661979\n",
      "0.6568\n",
      "0.651653\n",
      "0.646582\n",
      "0.641571\n",
      "0.636565\n",
      "0.631519\n",
      "0.626431\n",
      "0.621333\n",
      "0.616194\n",
      "0.611032\n",
      "0.605872\n",
      "0.600731\n",
      "0.595695\n",
      "0.590669\n",
      "0.58555\n",
      "0.580417\n",
      "0.575261\n",
      "0.570099\n",
      "0.564946\n",
      "0.559788\n",
      "0.554614\n",
      "0.549425\n",
      "0.544199\n",
      "0.538977\n"
     ]
    }
   ],
   "source": [
    "accuracies = model(X_training, Y_training, X_test, Y_test, learning_rate = 0.0001, num_epochs = 30)\n",
    "# learning_rate is so critical here. Setting a bigger value (e.g., 0.01) makes the process meaningless \n",
    "# because the accuracies just oscillate around 0.5"
   ]
  },
  {
   "cell_type": "code",
   "execution_count": 36,
   "metadata": {},
   "outputs": [
    {
     "data": {
      "image/png": "[encoded data removed]",
      "text/plain": [
       "<matplotlib.figure.Figure at 0x1199cd080>"
      ]
     },
     "metadata": {},
     "output_type": "display_data"
    }
   ],
   "source": [
    "figure = plt.figure()\n",
    "ax = figure.add_subplot(1, 1, 1)\n",
    "ax.plot(accuracies, label = \"No_BN\")\n",
    "ax.legend(loc = \"best\")\n",
    "ax.set_xlabel(\"Iterations\")\n",
    "ax.set_ylabel(\"Accuracy\")\n",
    "plt.show()"
   ]
  },
  {
   "cell_type": "code",
   "execution_count": null,
   "metadata": {},
   "outputs": [],
   "source": []
  }
 ],
 "metadata": {
  "kernelspec": {
   "display_name": "Python 3",
   "language": "python",
   "name": "python3"
  },
  "language_info": {
   "codemirror_mode": {
    "name": "ipython",
    "version": 3
   },
   "file_extension": ".py",
   "mimetype": "text/x-python",
   "name": "python",
   "nbconvert_exporter": "python",
   "pygments_lexer": "ipython3",
   "version": "3.6.3"
  }
 },
 "nbformat": 4,
 "nbformat_minor": 2
}
