{
 "cells": [
  {
   "cell_type": "code",
   "execution_count": 1,
   "metadata": {
    "collapsed": true
   },
   "outputs": [],
   "source": [
    "import tensorflow as tf\n",
    "import numpy as np\n",
    "import matplotlib.pyplot as plt"
   ]
  },
  {
   "cell_type": "markdown",
   "metadata": {},
   "source": [
    "## Add layer"
   ]
  },
  {
   "cell_type": "markdown",
   "metadata": {},
   "source": [
    "Normally, define a `add_layer` function that takes `weights`, `biases` and `activation function` as input."
   ]
  },
  {
   "cell_type": "code",
   "execution_count": 2,
   "metadata": {
    "collapsed": true
   },
   "outputs": [],
   "source": [
    "def add_layer(inputs, in_size, out_size, activation_function = None):\n",
    "    # Randomize weights\n",
    "    weights = tf.Variable(tf.random_normal([in_size, out_size]))\n",
    "    # Just avoid 0 init biases\n",
    "    biases = tf.Variable(tf.zeros([1, out_size]) + 0.1)\n",
    "    # Linear combination\n",
    "    wx_plus_b = tf.matmul(inputs, weights) + biases\n",
    "    \n",
    "    if activation_function is None:\n",
    "        outputs = wx_plus_b\n",
    "    else:\n",
    "        outputs = activation_function(wx_plus_b)\n",
    "    return outputs"
   ]
  },
  {
   "cell_type": "markdown",
   "metadata": {},
   "source": [
    "## Import data"
   ]
  },
  {
   "cell_type": "code",
   "execution_count": 3,
   "metadata": {},
   "outputs": [
    {
     "name": "stdout",
     "output_type": "stream",
     "text": [
      "x_data:  (300, 1)\n",
      "y_data:  (300, 1)\n",
      "noise:  (300, 1)\n"
     ]
    }
   ],
   "source": [
    "x_data = np.linspace(-1, 1, 300, dtype=np.float32)[:, np.newaxis]\n",
    "noise = np.random.normal(0, 0.05, x_data.shape).astype(np.float32)\n",
    "y_data = np.square(x_data) - 0.5 + noise\n",
    "print(\"x_data: \", np.shape(x_data))\n",
    "print(\"y_data: \", np.shape(y_data))\n",
    "print(\"noise: \", np.shape(noise))"
   ]
  },
  {
   "cell_type": "markdown",
   "metadata": {},
   "source": [
    "Use `placeholder` for data."
   ]
  },
  {
   "cell_type": "code",
   "execution_count": 4,
   "metadata": {
    "collapsed": true
   },
   "outputs": [],
   "source": [
    "xs = tf.placeholder(tf.float32, [None, 1]) # 'None' means any # will be fine\n",
    "ys = tf.placeholder(tf.float32, [None, 1])"
   ]
  },
  {
   "cell_type": "markdown",
   "metadata": {},
   "source": [
    "## Build the network"
   ]
  },
  {
   "cell_type": "markdown",
   "metadata": {},
   "source": [
    "One input layer, one hidden layer with 10 units, and one output layer"
   ]
  },
  {
   "cell_type": "code",
   "execution_count": 5,
   "metadata": {
    "collapsed": true
   },
   "outputs": [],
   "source": [
    "l1 = add_layer(xs, 1, 10, activation_function = tf.nn.relu)\n",
    "prediction = add_layer(l1, 10, 1, activation_function = None)\n",
    "\n",
    "loss = tf.reduce_mean(tf.square(ys - prediction))\n",
    "\n",
    "train_step = tf.train.GradientDescentOptimizer(0.1).minimize(loss)  # 0.1 is the learning rate\n",
    "\n",
    "init = tf.global_variables_initializer()\n",
    "\n",
    "session = tf.Session()\n",
    "session.run(init)"
   ]
  },
  {
   "cell_type": "markdown",
   "metadata": {},
   "source": [
    "## Train\n"
   ]
  },
  {
   "cell_type": "code",
   "execution_count": 6,
   "metadata": {},
   "outputs": [
    {
     "name": "stdout",
     "output_type": "stream",
     "text": [
      "0.256981\n",
      "0.00893325\n",
      "0.00486161\n",
      "0.00395142\n",
      "0.00340736\n",
      "0.00318148\n",
      "0.0030864\n",
      "0.00300813\n",
      "0.00296558\n",
      "0.00292387\n"
     ]
    }
   ],
   "source": [
    "for i in range(1000):\n",
    "    session.run(train_step, feed_dict={xs: x_data, ys: y_data})\n",
    "    if i % 100 == 0:\n",
    "        print(session.run(loss, feed_dict={xs: x_data, ys: y_data}))"
   ]
  },
  {
   "cell_type": "markdown",
   "metadata": {
    "collapsed": true
   },
   "source": [
    "## Visualization"
   ]
  },
  {
   "cell_type": "code",
   "execution_count": 7,
   "metadata": {},
   "outputs": [
    {
     "name": "stdout",
     "output_type": "stream",
     "text": [
      "(300,)\n"
     ]
    }
   ],
   "source": [
    "x = x_data.flatten()\n",
    "print(np.shape(x))"
   ]
  },
  {
   "cell_type": "code",
   "execution_count": 8,
   "metadata": {},
   "outputs": [
    {
     "data": {
      "image/png": "[encoded data removed]",
      "text/plain": [
       "<matplotlib.figure.Figure at 0x11adf1ac8>"
      ]
     },
     "metadata": {},
     "output_type": "display_data"
    }
   ],
   "source": [
    "%matplotlib\n",
    "fig = plt.figure()\n",
    "ax = fig.add_subplot(1, 1, 1)\n",
    "ax.scatter(x_data.flatten(), y_data.flatten())\n",
    "#plt.ion()\n",
    "plt.show()"
   ]
  },
  {
   "cell_type": "markdown",
   "metadata": {},
   "source": [
    "We want to visualize the process. We will refresh the graph every 50 steps, and then pause for 0.1 seconds."
   ]
  },
  {
   "cell_type": "code",
   "execution_count": 9,
   "metadata": {
    "scrolled": true
   },
   "outputs": [
    {
     "name": "stdout",
     "output_type": "stream",
     "text": [
      "Using matplotlib backend: MacOSX\n",
      "[<matplotlib.lines.Line2D object at 0x126223ac8>]\n",
      "[<matplotlib.lines.Line2D object at 0x1234b8dd8>]\n",
      "[<matplotlib.lines.Line2D object at 0x126236390>]\n",
      "[<matplotlib.lines.Line2D object at 0x127e2c748>]\n",
      "[<matplotlib.lines.Line2D object at 0x1234bd048>]\n",
      "[<matplotlib.lines.Line2D object at 0x126236898>]\n",
      "[<matplotlib.lines.Line2D object at 0x127e27048>]\n",
      "[<matplotlib.lines.Line2D object at 0x127e27208>]\n",
      "[<matplotlib.lines.Line2D object at 0x127e18c50>]\n",
      "[<matplotlib.lines.Line2D object at 0x127e180f0>]\n",
      "[<matplotlib.lines.Line2D object at 0x127e2c6a0>]\n",
      "[<matplotlib.lines.Line2D object at 0x1234b5f98>]\n",
      "[<matplotlib.lines.Line2D object at 0x126216cf8>]\n",
      "[<matplotlib.lines.Line2D object at 0x127e18518>]\n",
      "[<matplotlib.lines.Line2D object at 0x12622f0b8>]\n",
      "[<matplotlib.lines.Line2D object at 0x12622fba8>]\n",
      "[<matplotlib.lines.Line2D object at 0x12620d320>]\n",
      "[<matplotlib.lines.Line2D object at 0x12623cdd8>]\n",
      "[<matplotlib.lines.Line2D object at 0x127e32940>]\n",
      "[<matplotlib.lines.Line2D object at 0x127e2c748>]\n",
      "end of plotting\n"
     ]
    }
   ],
   "source": [
    "# Using pop-up graph instead of inline, so that we can refresh\n",
    "%matplotlib\n",
    "\n",
    "fig = plt.figure()\n",
    "ax = fig.add_subplot(1, 1, 1)\n",
    "ax.scatter(x_data, y_data)\n",
    "plt.ion()  # Enable interactive mode, making sure plot is shown immediately. Otherwise only the final one is shown.\n",
    "for i in range(1000):\n",
    "    session.run(train_step, feed_dict = {xs: x_data, ys: y_data})\n",
    "    if i % 50 == 0:\n",
    "        try:\n",
    "            ax.lines.remove(lines[0])\n",
    "        except Exception:\n",
    "            pass\n",
    "        prediction_value = session.run(prediction, feed_dict = {xs: x_data, ys: y_data})\n",
    "        lines = ax.plot(x_data, prediction_value, 'r-', lw=5)\n",
    "        plt.pause(0.1)\n",
    "        print(lines)\n",
    "print(\"end of plotting\")"
   ]
  },
  {
   "cell_type": "code",
   "execution_count": null,
   "metadata": {
    "collapsed": true
   },
   "outputs": [],
   "source": []
  }
 ],
 "metadata": {
  "kernelspec": {
   "display_name": "Python 3",
   "language": "python",
   "name": "python3"
  },
  "language_info": {
   "codemirror_mode": {
    "name": "ipython",
    "version": 3
   },
   "file_extension": ".py",
   "mimetype": "text/x-python",
   "name": "python",
   "nbconvert_exporter": "python",
   "pygments_lexer": "ipython3",
   "version": "3.6.3"
  }
 },
 "nbformat": 4,
 "nbformat_minor": 2
}
