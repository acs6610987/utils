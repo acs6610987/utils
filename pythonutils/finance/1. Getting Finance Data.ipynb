{
 "cells": [
  {
   "cell_type": "code",
   "execution_count": 27,
   "metadata": {
    "collapsed": true
   },
   "outputs": [],
   "source": [
    "from pandas_datareader import data\n",
    "import matplotlib.pyplot as plt\n",
    "import pandas as pd\n",
    "import datetime"
   ]
  },
  {
   "cell_type": "markdown",
   "metadata": {},
   "source": [
    "## Get data from Yahoo (May not work since Yahoo updates API after May/2017)"
   ]
  },
  {
   "cell_type": "markdown",
   "metadata": {},
   "source": [
    "When I run the following code, it only succeeds with a probability :(. Maybe Yahoo puts some limitation on the # of requets from one IP address?"
   ]
  },
  {
   "cell_type": "code",
   "execution_count": 21,
   "metadata": {},
   "outputs": [],
   "source": [
    "# \"Stock ticker symbol\". E.g., \"F\" is the ticker for Ford Motor Company.\n",
    "# Define the instruments to download. We would like to see Apple, Microsoft, Ford Motor, and the S&P500 index.\n",
    "tickers = ['AAPL', 'MSFT', 'F', '^GSPC', ]\n",
    "\n",
    "# Define which online source one should use\n",
    "data_source = 'yahoo'\n",
    "\n",
    "# We would like all available data from 01/01/2010 until 12/31/2016\n",
    "start_date = '2009-12-31'\n",
    "end_date = '2016-12-31'\n",
    "\n",
    "# Use pandas_datareader.data.DataReader to load the desired data\n",
    "panel_data = data.DataReader(tickers, data_source, start_date, end_date)"
   ]
  },
  {
   "cell_type": "markdown",
   "metadata": {},
   "source": [
    "## Get data from Google"
   ]
  },
  {
   "cell_type": "markdown",
   "metadata": {},
   "source": [
    "Google has updated its historical financial data URL to **\"finance.google.com/finance/historical\"**.\n",
    "You should make sure your pandas_datareader package contains the correct URL. It is in the python script:\n",
    "**pandas_datareader/google/daily.py**."
   ]
  },
  {
   "cell_type": "code",
   "execution_count": 3,
   "metadata": {},
   "outputs": [],
   "source": [
    "# \"Stock ticker symbol\". E.g., \"F\" is the ticker for Ford Motor Company.\n",
    "# Define the instruments to download. We would like to see Apple, Microsoft, Ford Motor, and the S&P500 index.\n",
    "tickers = ['AAPL', 'MSFT', 'F', 'SPY']\n",
    "\n",
    "# Define which online source one should use\n",
    "data_source = 'google'\n",
    "\n",
    "# We would like all available data from 01/01/2010 until 12/31/2016\n",
    "start_date = datetime.datetime(2010, 1, 1)\n",
    "end_date = datetime.datetime(2016, 12, 31)\n",
    "\n",
    "# Use pandas_datareader.data.DataReader to load the desired data\n",
    "panel_data = data.DataReader(tickers, data_source, start_date, end_date)"
   ]
  },
  {
   "cell_type": "code",
   "execution_count": 22,
   "metadata": {
    "scrolled": true
   },
   "outputs": [
    {
     "data": {
      "text/plain": [
       "<class 'pandas.core.panel.Panel'>\n",
       "Dimensions: 6 (items) x 1764 (major_axis) x 4 (minor_axis)\n",
       "Items axis: Adj Close to Volume\n",
       "Major_axis axis: 2016-12-30 00:00:00 to 2009-12-30 00:00:00\n",
       "Minor_axis axis: AAPL to ^GSPC"
      ]
     },
     "execution_count": 22,
     "metadata": {},
     "output_type": "execute_result"
    }
   ],
   "source": [
    "panel_data"
   ]
  },
  {
   "cell_type": "code",
   "execution_count": 23,
   "metadata": {},
   "outputs": [
    {
     "data": {
      "text/plain": [
       "Index(['Adj Close', 'Close', 'High', 'Low', 'Open', 'Volume'], dtype='object')"
      ]
     },
     "execution_count": 23,
     "metadata": {},
     "output_type": "execute_result"
    }
   ],
   "source": [
    "panel_data.items"
   ]
  },
  {
   "cell_type": "code",
   "execution_count": 24,
   "metadata": {},
   "outputs": [
    {
     "data": {
      "text/html": [
       "<div>\n",
       "<style>\n",
       "    .dataframe thead tr:only-child th {\n",
       "        text-align: right;\n",
       "    }\n",
       "\n",
       "    .dataframe thead th {\n",
       "        text-align: left;\n",
       "    }\n",
       "\n",
       "    .dataframe tbody tr th {\n",
       "        vertical-align: top;\n",
       "    }\n",
       "</style>\n",
       "<table border=\"1\" class=\"dataframe\">\n",
       "  <thead>\n",
       "    <tr style=\"text-align: right;\">\n",
       "      <th></th>\n",
       "      <th>AAPL</th>\n",
       "      <th>F</th>\n",
       "      <th>MSFT</th>\n",
       "      <th>^GSPC</th>\n",
       "    </tr>\n",
       "  </thead>\n",
       "  <tbody>\n",
       "    <tr>\n",
       "      <th>2009-12-31</th>\n",
       "      <td>30.104286</td>\n",
       "      <td>10.00</td>\n",
       "      <td>30.480000</td>\n",
       "      <td>1115.099976</td>\n",
       "    </tr>\n",
       "    <tr>\n",
       "      <th>2010-01-01</th>\n",
       "      <td>NaN</td>\n",
       "      <td>NaN</td>\n",
       "      <td>NaN</td>\n",
       "      <td>NaN</td>\n",
       "    </tr>\n",
       "    <tr>\n",
       "      <th>2010-01-04</th>\n",
       "      <td>30.572857</td>\n",
       "      <td>10.28</td>\n",
       "      <td>30.950001</td>\n",
       "      <td>1132.989990</td>\n",
       "    </tr>\n",
       "    <tr>\n",
       "      <th>2010-01-05</th>\n",
       "      <td>30.625713</td>\n",
       "      <td>10.96</td>\n",
       "      <td>30.959999</td>\n",
       "      <td>1136.520020</td>\n",
       "    </tr>\n",
       "    <tr>\n",
       "      <th>2010-01-06</th>\n",
       "      <td>30.138571</td>\n",
       "      <td>11.37</td>\n",
       "      <td>30.770000</td>\n",
       "      <td>1137.140015</td>\n",
       "    </tr>\n",
       "    <tr>\n",
       "      <th>2010-01-07</th>\n",
       "      <td>30.082857</td>\n",
       "      <td>11.66</td>\n",
       "      <td>30.450001</td>\n",
       "      <td>1141.689941</td>\n",
       "    </tr>\n",
       "    <tr>\n",
       "      <th>2010-01-08</th>\n",
       "      <td>30.282858</td>\n",
       "      <td>11.69</td>\n",
       "      <td>30.660000</td>\n",
       "      <td>1144.979980</td>\n",
       "    </tr>\n",
       "    <tr>\n",
       "      <th>2010-01-11</th>\n",
       "      <td>30.015715</td>\n",
       "      <td>12.11</td>\n",
       "      <td>30.270000</td>\n",
       "      <td>1146.979980</td>\n",
       "    </tr>\n",
       "    <tr>\n",
       "      <th>2010-01-12</th>\n",
       "      <td>29.674286</td>\n",
       "      <td>11.87</td>\n",
       "      <td>30.070000</td>\n",
       "      <td>1136.219971</td>\n",
       "    </tr>\n",
       "    <tr>\n",
       "      <th>2010-01-13</th>\n",
       "      <td>30.092857</td>\n",
       "      <td>11.68</td>\n",
       "      <td>30.350000</td>\n",
       "      <td>1145.680054</td>\n",
       "    </tr>\n",
       "  </tbody>\n",
       "</table>\n",
       "</div>"
      ],
      "text/plain": [
       "                 AAPL      F       MSFT        ^GSPC\n",
       "2009-12-31  30.104286  10.00  30.480000  1115.099976\n",
       "2010-01-01        NaN    NaN        NaN          NaN\n",
       "2010-01-04  30.572857  10.28  30.950001  1132.989990\n",
       "2010-01-05  30.625713  10.96  30.959999  1136.520020\n",
       "2010-01-06  30.138571  11.37  30.770000  1137.140015\n",
       "2010-01-07  30.082857  11.66  30.450001  1141.689941\n",
       "2010-01-08  30.282858  11.69  30.660000  1144.979980\n",
       "2010-01-11  30.015715  12.11  30.270000  1146.979980\n",
       "2010-01-12  29.674286  11.87  30.070000  1136.219971\n",
       "2010-01-13  30.092857  11.68  30.350000  1145.680054"
      ]
     },
     "execution_count": 24,
     "metadata": {},
     "output_type": "execute_result"
    }
   ],
   "source": [
    "# Getting just the adjusted closing prices. This will return a Pandas DataFrame\n",
    "# The index in this DataFrame is the major index of the panel_data\n",
    "close = panel_data.loc['Close']\n",
    "\n",
    "# Getting all weekdays\n",
    "all_weekdays = pd.date_range(start = start_date, end = end_date, freq = 'B')\n",
    "\n",
    "# How do we align the existing prices in 'Close' with our new set of dates?\n",
    "# All we need to do is reindex 'Close' using all_weekdays as the new index\n",
    "close = close.reindex(all_weekdays)\n",
    "\n",
    "close.head(10)"
   ]
  },
  {
   "cell_type": "markdown",
   "metadata": {
    "collapsed": true
   },
   "source": [
    "## Fill missing prices"
   ]
  },
  {
   "cell_type": "markdown",
   "metadata": {},
   "source": [
    "Some weekdays might be public holidays in which case no price will be available. We will fill the missing prices with the latest available prices."
   ]
  },
  {
   "cell_type": "code",
   "execution_count": 25,
   "metadata": {
    "scrolled": true
   },
   "outputs": [
    {
     "data": {
      "text/html": [
       "<div>\n",
       "<style>\n",
       "    .dataframe thead tr:only-child th {\n",
       "        text-align: right;\n",
       "    }\n",
       "\n",
       "    .dataframe thead th {\n",
       "        text-align: left;\n",
       "    }\n",
       "\n",
       "    .dataframe tbody tr th {\n",
       "        vertical-align: top;\n",
       "    }\n",
       "</style>\n",
       "<table border=\"1\" class=\"dataframe\">\n",
       "  <thead>\n",
       "    <tr style=\"text-align: right;\">\n",
       "      <th></th>\n",
       "      <th>AAPL</th>\n",
       "      <th>F</th>\n",
       "      <th>MSFT</th>\n",
       "      <th>^GSPC</th>\n",
       "    </tr>\n",
       "  </thead>\n",
       "  <tbody>\n",
       "    <tr>\n",
       "      <th>2009-12-31</th>\n",
       "      <td>30.104286</td>\n",
       "      <td>10.00</td>\n",
       "      <td>30.480000</td>\n",
       "      <td>1115.099976</td>\n",
       "    </tr>\n",
       "    <tr>\n",
       "      <th>2010-01-01</th>\n",
       "      <td>30.104286</td>\n",
       "      <td>10.00</td>\n",
       "      <td>30.480000</td>\n",
       "      <td>1115.099976</td>\n",
       "    </tr>\n",
       "    <tr>\n",
       "      <th>2010-01-04</th>\n",
       "      <td>30.572857</td>\n",
       "      <td>10.28</td>\n",
       "      <td>30.950001</td>\n",
       "      <td>1132.989990</td>\n",
       "    </tr>\n",
       "    <tr>\n",
       "      <th>2010-01-05</th>\n",
       "      <td>30.625713</td>\n",
       "      <td>10.96</td>\n",
       "      <td>30.959999</td>\n",
       "      <td>1136.520020</td>\n",
       "    </tr>\n",
       "    <tr>\n",
       "      <th>2010-01-06</th>\n",
       "      <td>30.138571</td>\n",
       "      <td>11.37</td>\n",
       "      <td>30.770000</td>\n",
       "      <td>1137.140015</td>\n",
       "    </tr>\n",
       "    <tr>\n",
       "      <th>2010-01-07</th>\n",
       "      <td>30.082857</td>\n",
       "      <td>11.66</td>\n",
       "      <td>30.450001</td>\n",
       "      <td>1141.689941</td>\n",
       "    </tr>\n",
       "    <tr>\n",
       "      <th>2010-01-08</th>\n",
       "      <td>30.282858</td>\n",
       "      <td>11.69</td>\n",
       "      <td>30.660000</td>\n",
       "      <td>1144.979980</td>\n",
       "    </tr>\n",
       "    <tr>\n",
       "      <th>2010-01-11</th>\n",
       "      <td>30.015715</td>\n",
       "      <td>12.11</td>\n",
       "      <td>30.270000</td>\n",
       "      <td>1146.979980</td>\n",
       "    </tr>\n",
       "    <tr>\n",
       "      <th>2010-01-12</th>\n",
       "      <td>29.674286</td>\n",
       "      <td>11.87</td>\n",
       "      <td>30.070000</td>\n",
       "      <td>1136.219971</td>\n",
       "    </tr>\n",
       "    <tr>\n",
       "      <th>2010-01-13</th>\n",
       "      <td>30.092857</td>\n",
       "      <td>11.68</td>\n",
       "      <td>30.350000</td>\n",
       "      <td>1145.680054</td>\n",
       "    </tr>\n",
       "  </tbody>\n",
       "</table>\n",
       "</div>"
      ],
      "text/plain": [
       "                 AAPL      F       MSFT        ^GSPC\n",
       "2009-12-31  30.104286  10.00  30.480000  1115.099976\n",
       "2010-01-01  30.104286  10.00  30.480000  1115.099976\n",
       "2010-01-04  30.572857  10.28  30.950001  1132.989990\n",
       "2010-01-05  30.625713  10.96  30.959999  1136.520020\n",
       "2010-01-06  30.138571  11.37  30.770000  1137.140015\n",
       "2010-01-07  30.082857  11.66  30.450001  1141.689941\n",
       "2010-01-08  30.282858  11.69  30.660000  1144.979980\n",
       "2010-01-11  30.015715  12.11  30.270000  1146.979980\n",
       "2010-01-12  29.674286  11.87  30.070000  1136.219971\n",
       "2010-01-13  30.092857  11.68  30.350000  1145.680054"
      ]
     },
     "execution_count": 25,
     "metadata": {},
     "output_type": "execute_result"
    }
   ],
   "source": [
    "# 'ffill' means 'forward fill', use last valid observation\n",
    "# 'bfill' means 'backward fill', use next valid observation\n",
    "close = close.fillna(method='ffill')\n",
    "close.head(10)"
   ]
  },
  {
   "cell_type": "code",
   "execution_count": 26,
   "metadata": {
    "scrolled": true
   },
   "outputs": [
    {
     "data": {
      "text/html": [
       "<div>\n",
       "<style>\n",
       "    .dataframe thead tr:only-child th {\n",
       "        text-align: right;\n",
       "    }\n",
       "\n",
       "    .dataframe thead th {\n",
       "        text-align: left;\n",
       "    }\n",
       "\n",
       "    .dataframe tbody tr th {\n",
       "        vertical-align: top;\n",
       "    }\n",
       "</style>\n",
       "<table border=\"1\" class=\"dataframe\">\n",
       "  <thead>\n",
       "    <tr style=\"text-align: right;\">\n",
       "      <th></th>\n",
       "      <th>AAPL</th>\n",
       "      <th>F</th>\n",
       "      <th>MSFT</th>\n",
       "      <th>^GSPC</th>\n",
       "    </tr>\n",
       "  </thead>\n",
       "  <tbody>\n",
       "    <tr>\n",
       "      <th>count</th>\n",
       "      <td>1827.000000</td>\n",
       "      <td>1827.000000</td>\n",
       "      <td>1827.000000</td>\n",
       "      <td>1827.000000</td>\n",
       "    </tr>\n",
       "    <tr>\n",
       "      <th>mean</th>\n",
       "      <td>79.359363</td>\n",
       "      <td>13.705079</td>\n",
       "      <td>37.111341</td>\n",
       "      <td>1645.040519</td>\n",
       "    </tr>\n",
       "    <tr>\n",
       "      <th>std</th>\n",
       "      <td>28.333736</td>\n",
       "      <td>2.225693</td>\n",
       "      <td>10.810505</td>\n",
       "      <td>371.364200</td>\n",
       "    </tr>\n",
       "    <tr>\n",
       "      <th>min</th>\n",
       "      <td>27.435715</td>\n",
       "      <td>8.920000</td>\n",
       "      <td>23.010000</td>\n",
       "      <td>1022.580017</td>\n",
       "    </tr>\n",
       "    <tr>\n",
       "      <th>25%</th>\n",
       "      <td>55.372858</td>\n",
       "      <td>12.000000</td>\n",
       "      <td>27.840000</td>\n",
       "      <td>1310.259949</td>\n",
       "    </tr>\n",
       "    <tr>\n",
       "      <th>50%</th>\n",
       "      <td>78.432854</td>\n",
       "      <td>13.610000</td>\n",
       "      <td>33.020000</td>\n",
       "      <td>1649.599976</td>\n",
       "    </tr>\n",
       "    <tr>\n",
       "      <th>75%</th>\n",
       "      <td>103.065002</td>\n",
       "      <td>15.505000</td>\n",
       "      <td>46.105000</td>\n",
       "      <td>2020.714966</td>\n",
       "    </tr>\n",
       "    <tr>\n",
       "      <th>max</th>\n",
       "      <td>133.000000</td>\n",
       "      <td>18.790001</td>\n",
       "      <td>63.619999</td>\n",
       "      <td>2271.719971</td>\n",
       "    </tr>\n",
       "  </tbody>\n",
       "</table>\n",
       "</div>"
      ],
      "text/plain": [
       "              AAPL            F         MSFT        ^GSPC\n",
       "count  1827.000000  1827.000000  1827.000000  1827.000000\n",
       "mean     79.359363    13.705079    37.111341  1645.040519\n",
       "std      28.333736     2.225693    10.810505   371.364200\n",
       "min      27.435715     8.920000    23.010000  1022.580017\n",
       "25%      55.372858    12.000000    27.840000  1310.259949\n",
       "50%      78.432854    13.610000    33.020000  1649.599976\n",
       "75%     103.065002    15.505000    46.105000  2020.714966\n",
       "max     133.000000    18.790001    63.619999  2271.719971"
      ]
     },
     "execution_count": 26,
     "metadata": {},
     "output_type": "execute_result"
    }
   ],
   "source": [
    "close.describe()"
   ]
  },
  {
   "cell_type": "markdown",
   "metadata": {},
   "source": [
    "## Visualize the data"
   ]
  },
  {
   "cell_type": "markdown",
   "metadata": {},
   "source": [
    "Suppose we would like to plot the **MSFT time-series**. We would also like to see how the stock behaves compared to a short and longer term moving average of its price. A simple moving average of the original time-series is calculated by taking for each date the average of the last *W* prices (including the price on the date of interest). pandas has `rolling()`, a built in function for Series which returns a rolling object for a user-defined window, e.g. 20 days. Once a rolling object has been obtained, a number of functions can be applied on it, such as `sum()`, `std()` (to calculate the standard deviation of the values in the window) or `mean()`."
   ]
  },
  {
   "cell_type": "code",
   "execution_count": 29,
   "metadata": {},
   "outputs": [
    {
     "data": {
      "image/png": "[encoded data removed]",
      "text/plain": [
       "<matplotlib.figure.Figure at 0x10a23c518>"
      ]
     },
     "metadata": {},
     "output_type": "display_data"
    }
   ],
   "source": [
    "# Get the MSFT time series. This now returns a Pandas Series object indexed by date.\n",
    "msft = close.loc[:, 'MSFT']\n",
    "# Calcualte the 20 and 100 days moving averages of the closing prices\n",
    "short_average_msft = msft.rolling(window = 20).mean()\n",
    "long_average_msft = msft.rolling(window = 100).mean()\n",
    "\n",
    "fig = plt.figure()\n",
    "ax = fig.add_subplot(1, 1, 1)\n",
    "ax.plot(msft.index, msft, label = 'MSFT')\n",
    "ax.plot(short_average_msft.index, short_average_msft, label = '20 days moving average')\n",
    "ax.plot(long_average_msft.index, long_average_msft, label = '100 days moving average')\n",
    "ax.set_xlabel('Date')\n",
    "ax.set_ylabel('Closing price ($)')\n",
    "ax.legend()\n",
    "\n",
    "plt.show()"
   ]
  },
  {
   "cell_type": "markdown",
   "metadata": {},
   "source": [
    "## Save the data"
   ]
  },
  {
   "cell_type": "code",
   "execution_count": 30,
   "metadata": {
    "collapsed": true
   },
   "outputs": [],
   "source": [
    "panel_data.to_pickle(\"./data/yahoo.pkl\")"
   ]
  },
  {
   "cell_type": "code",
   "execution_count": null,
   "metadata": {
    "collapsed": true
   },
   "outputs": [],
   "source": []
  }
 ],
 "metadata": {
  "kernelspec": {
   "display_name": "Python 3",
   "language": "python",
   "name": "python3"
  },
  "language_info": {
   "codemirror_mode": {
    "name": "ipython",
    "version": 3
   },
   "file_extension": ".py",
   "mimetype": "text/x-python",
   "name": "python",
   "nbconvert_exporter": "python",
   "pygments_lexer": "ipython3",
   "version": "3.6.3"
  }
 },
 "nbformat": 4,
 "nbformat_minor": 2
}
